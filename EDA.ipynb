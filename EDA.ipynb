{
 "cells": [
  {
   "cell_type": "code",
   "execution_count": 1,
   "metadata": {},
   "outputs": [],
   "source": [
    "import pandas as pd\n",
    "import seaborn as sns\n",
    "import matplotlib.pyplot as plt"
   ]
  },
  {
   "cell_type": "code",
   "execution_count": 2,
   "metadata": {},
   "outputs": [],
   "source": [
    "drugs = pd.read_excel(\"drug_consumption.xls\")"
   ]
  },
  {
   "cell_type": "code",
   "execution_count": 3,
   "metadata": {},
   "outputs": [
    {
     "name": "stdout",
     "output_type": "stream",
     "text": [
      "<class 'pandas.core.frame.DataFrame'>\n",
      "RangeIndex: 1885 entries, 0 to 1884\n",
      "Data columns (total 32 columns):\n",
      " #   Column     Non-Null Count  Dtype  \n",
      "---  ------     --------------  -----  \n",
      " 0   ID         1885 non-null   int64  \n",
      " 1   Age        1885 non-null   float64\n",
      " 2   Gender     1885 non-null   float64\n",
      " 3   Education  1885 non-null   float64\n",
      " 4   Country    1885 non-null   float64\n",
      " 5   Ethnicity  1885 non-null   float64\n",
      " 6   Nscore     1885 non-null   float64\n",
      " 7   Escore     1885 non-null   float64\n",
      " 8   Oscore     1885 non-null   float64\n",
      " 9   Ascore     1885 non-null   float64\n",
      " 10  Cscore     1885 non-null   float64\n",
      " 11  Impulsive  1885 non-null   float64\n",
      " 12  SS         1885 non-null   float64\n",
      " 13  Alcohol    1885 non-null   object \n",
      " 14  Amphet     1885 non-null   object \n",
      " 15  Amyl       1885 non-null   object \n",
      " 16  Benzos     1885 non-null   object \n",
      " 17  Caff       1885 non-null   object \n",
      " 18  Cannabis   1885 non-null   object \n",
      " 19  Choc       1885 non-null   object \n",
      " 20  Coke       1885 non-null   object \n",
      " 21  Crack      1885 non-null   object \n",
      " 22  Ecstasy    1885 non-null   object \n",
      " 23  Heroin     1885 non-null   object \n",
      " 24  Ketamine   1885 non-null   object \n",
      " 25  Legalh     1885 non-null   object \n",
      " 26  LSD        1885 non-null   object \n",
      " 27  Meth       1885 non-null   object \n",
      " 28  Shrooms    1885 non-null   object \n",
      " 29  Nicotine   1885 non-null   object \n",
      " 30  Semer      1885 non-null   object \n",
      " 31  VSA        1885 non-null   object \n",
      "dtypes: float64(12), int64(1), object(19)\n",
      "memory usage: 471.4+ KB\n"
     ]
    }
   ],
   "source": [
    "drugs.info()"
   ]
  },
  {
   "cell_type": "markdown",
   "metadata": {},
   "source": [
    "### Handling the ```semer``` variable"
   ]
  },
  {
   "cell_type": "code",
   "execution_count": 4,
   "metadata": {},
   "outputs": [
    {
     "data": {
      "text/html": [
       "<div>\n",
       "<style scoped>\n",
       "    .dataframe tbody tr th:only-of-type {\n",
       "        vertical-align: middle;\n",
       "    }\n",
       "\n",
       "    .dataframe tbody tr th {\n",
       "        vertical-align: top;\n",
       "    }\n",
       "\n",
       "    .dataframe thead th {\n",
       "        text-align: right;\n",
       "    }\n",
       "</style>\n",
       "<table border=\"1\" class=\"dataframe\">\n",
       "  <thead>\n",
       "    <tr style=\"text-align: right;\">\n",
       "      <th></th>\n",
       "      <th>ID</th>\n",
       "      <th>Age</th>\n",
       "      <th>Gender</th>\n",
       "      <th>Education</th>\n",
       "      <th>Country</th>\n",
       "      <th>Ethnicity</th>\n",
       "      <th>Nscore</th>\n",
       "      <th>Escore</th>\n",
       "      <th>Oscore</th>\n",
       "      <th>Ascore</th>\n",
       "      <th>...</th>\n",
       "      <th>Ecstasy</th>\n",
       "      <th>Heroin</th>\n",
       "      <th>Ketamine</th>\n",
       "      <th>Legalh</th>\n",
       "      <th>LSD</th>\n",
       "      <th>Meth</th>\n",
       "      <th>Shrooms</th>\n",
       "      <th>Nicotine</th>\n",
       "      <th>Semer</th>\n",
       "      <th>VSA</th>\n",
       "    </tr>\n",
       "  </thead>\n",
       "  <tbody>\n",
       "    <tr>\n",
       "      <th>727</th>\n",
       "      <td>730</td>\n",
       "      <td>-0.07854</td>\n",
       "      <td>0.48246</td>\n",
       "      <td>-1.73790</td>\n",
       "      <td>-0.09765</td>\n",
       "      <td>-0.31685</td>\n",
       "      <td>-0.58016</td>\n",
       "      <td>0.32197</td>\n",
       "      <td>0.14143</td>\n",
       "      <td>-0.60633</td>\n",
       "      <td>...</td>\n",
       "      <td>CL2</td>\n",
       "      <td>CL2</td>\n",
       "      <td>CL2</td>\n",
       "      <td>CL0</td>\n",
       "      <td>CL4</td>\n",
       "      <td>CL2</td>\n",
       "      <td>CL6</td>\n",
       "      <td>CL6</td>\n",
       "      <td>CL2</td>\n",
       "      <td>CL2</td>\n",
       "    </tr>\n",
       "    <tr>\n",
       "      <th>817</th>\n",
       "      <td>821</td>\n",
       "      <td>-0.95197</td>\n",
       "      <td>-0.48246</td>\n",
       "      <td>-0.61113</td>\n",
       "      <td>-0.09765</td>\n",
       "      <td>-0.50212</td>\n",
       "      <td>-0.67825</td>\n",
       "      <td>1.74091</td>\n",
       "      <td>0.72330</td>\n",
       "      <td>0.13136</td>\n",
       "      <td>...</td>\n",
       "      <td>CL3</td>\n",
       "      <td>CL0</td>\n",
       "      <td>CL0</td>\n",
       "      <td>CL0</td>\n",
       "      <td>CL5</td>\n",
       "      <td>CL0</td>\n",
       "      <td>CL5</td>\n",
       "      <td>CL4</td>\n",
       "      <td>CL3</td>\n",
       "      <td>CL0</td>\n",
       "    </tr>\n",
       "    <tr>\n",
       "      <th>1516</th>\n",
       "      <td>1520</td>\n",
       "      <td>-0.95197</td>\n",
       "      <td>-0.48246</td>\n",
       "      <td>-0.61113</td>\n",
       "      <td>-0.57009</td>\n",
       "      <td>-0.31685</td>\n",
       "      <td>-0.24649</td>\n",
       "      <td>-0.80615</td>\n",
       "      <td>-1.27553</td>\n",
       "      <td>-1.34289</td>\n",
       "      <td>...</td>\n",
       "      <td>CL1</td>\n",
       "      <td>CL2</td>\n",
       "      <td>CL1</td>\n",
       "      <td>CL2</td>\n",
       "      <td>CL1</td>\n",
       "      <td>CL2</td>\n",
       "      <td>CL4</td>\n",
       "      <td>CL2</td>\n",
       "      <td>CL3</td>\n",
       "      <td>CL1</td>\n",
       "    </tr>\n",
       "    <tr>\n",
       "      <th>1533</th>\n",
       "      <td>1537</td>\n",
       "      <td>-0.95197</td>\n",
       "      <td>0.48246</td>\n",
       "      <td>-0.61113</td>\n",
       "      <td>-0.57009</td>\n",
       "      <td>0.11440</td>\n",
       "      <td>-0.46725</td>\n",
       "      <td>0.80523</td>\n",
       "      <td>0.29338</td>\n",
       "      <td>2.03972</td>\n",
       "      <td>...</td>\n",
       "      <td>CL4</td>\n",
       "      <td>CL0</td>\n",
       "      <td>CL4</td>\n",
       "      <td>CL3</td>\n",
       "      <td>CL2</td>\n",
       "      <td>CL0</td>\n",
       "      <td>CL3</td>\n",
       "      <td>CL4</td>\n",
       "      <td>CL4</td>\n",
       "      <td>CL3</td>\n",
       "    </tr>\n",
       "    <tr>\n",
       "      <th>1698</th>\n",
       "      <td>1702</td>\n",
       "      <td>0.49788</td>\n",
       "      <td>0.48246</td>\n",
       "      <td>0.45468</td>\n",
       "      <td>-0.57009</td>\n",
       "      <td>-0.31685</td>\n",
       "      <td>1.98437</td>\n",
       "      <td>-0.80615</td>\n",
       "      <td>2.15324</td>\n",
       "      <td>0.76096</td>\n",
       "      <td>...</td>\n",
       "      <td>CL2</td>\n",
       "      <td>CL0</td>\n",
       "      <td>CL2</td>\n",
       "      <td>CL2</td>\n",
       "      <td>CL2</td>\n",
       "      <td>CL0</td>\n",
       "      <td>CL2</td>\n",
       "      <td>CL6</td>\n",
       "      <td>CL2</td>\n",
       "      <td>CL0</td>\n",
       "    </tr>\n",
       "    <tr>\n",
       "      <th>1769</th>\n",
       "      <td>1773</td>\n",
       "      <td>-0.95197</td>\n",
       "      <td>-0.48246</td>\n",
       "      <td>-1.22751</td>\n",
       "      <td>-0.57009</td>\n",
       "      <td>-0.22166</td>\n",
       "      <td>-0.34799</td>\n",
       "      <td>1.28610</td>\n",
       "      <td>1.06238</td>\n",
       "      <td>-0.01729</td>\n",
       "      <td>...</td>\n",
       "      <td>CL3</td>\n",
       "      <td>CL0</td>\n",
       "      <td>CL4</td>\n",
       "      <td>CL3</td>\n",
       "      <td>CL6</td>\n",
       "      <td>CL3</td>\n",
       "      <td>CL3</td>\n",
       "      <td>CL3</td>\n",
       "      <td>CL1</td>\n",
       "      <td>CL3</td>\n",
       "    </tr>\n",
       "    <tr>\n",
       "      <th>1806</th>\n",
       "      <td>1810</td>\n",
       "      <td>-0.95197</td>\n",
       "      <td>0.48246</td>\n",
       "      <td>-1.43719</td>\n",
       "      <td>-0.57009</td>\n",
       "      <td>-0.31685</td>\n",
       "      <td>1.23461</td>\n",
       "      <td>1.11406</td>\n",
       "      <td>1.06238</td>\n",
       "      <td>-1.47955</td>\n",
       "      <td>...</td>\n",
       "      <td>CL4</td>\n",
       "      <td>CL2</td>\n",
       "      <td>CL1</td>\n",
       "      <td>CL4</td>\n",
       "      <td>CL1</td>\n",
       "      <td>CL0</td>\n",
       "      <td>CL1</td>\n",
       "      <td>CL6</td>\n",
       "      <td>CL1</td>\n",
       "      <td>CL2</td>\n",
       "    </tr>\n",
       "    <tr>\n",
       "      <th>1823</th>\n",
       "      <td>1827</td>\n",
       "      <td>-0.95197</td>\n",
       "      <td>0.48246</td>\n",
       "      <td>0.45468</td>\n",
       "      <td>-0.57009</td>\n",
       "      <td>-0.31685</td>\n",
       "      <td>0.22393</td>\n",
       "      <td>-0.30033</td>\n",
       "      <td>0.88309</td>\n",
       "      <td>1.28610</td>\n",
       "      <td>...</td>\n",
       "      <td>CL0</td>\n",
       "      <td>CL0</td>\n",
       "      <td>CL0</td>\n",
       "      <td>CL2</td>\n",
       "      <td>CL3</td>\n",
       "      <td>CL0</td>\n",
       "      <td>CL3</td>\n",
       "      <td>CL5</td>\n",
       "      <td>CL2</td>\n",
       "      <td>CL0</td>\n",
       "    </tr>\n",
       "  </tbody>\n",
       "</table>\n",
       "<p>8 rows × 32 columns</p>\n",
       "</div>"
      ],
      "text/plain": [
       "        ID      Age   Gender  Education  Country  Ethnicity   Nscore   Escore  \\\n",
       "727    730 -0.07854  0.48246   -1.73790 -0.09765   -0.31685 -0.58016  0.32197   \n",
       "817    821 -0.95197 -0.48246   -0.61113 -0.09765   -0.50212 -0.67825  1.74091   \n",
       "1516  1520 -0.95197 -0.48246   -0.61113 -0.57009   -0.31685 -0.24649 -0.80615   \n",
       "1533  1537 -0.95197  0.48246   -0.61113 -0.57009    0.11440 -0.46725  0.80523   \n",
       "1698  1702  0.49788  0.48246    0.45468 -0.57009   -0.31685  1.98437 -0.80615   \n",
       "1769  1773 -0.95197 -0.48246   -1.22751 -0.57009   -0.22166 -0.34799  1.28610   \n",
       "1806  1810 -0.95197  0.48246   -1.43719 -0.57009   -0.31685  1.23461  1.11406   \n",
       "1823  1827 -0.95197  0.48246    0.45468 -0.57009   -0.31685  0.22393 -0.30033   \n",
       "\n",
       "       Oscore   Ascore  ...  Ecstasy  Heroin  Ketamine Legalh  LSD Meth  \\\n",
       "727   0.14143 -0.60633  ...      CL2     CL2       CL2    CL0  CL4  CL2   \n",
       "817   0.72330  0.13136  ...      CL3     CL0       CL0    CL0  CL5  CL0   \n",
       "1516 -1.27553 -1.34289  ...      CL1     CL2       CL1    CL2  CL1  CL2   \n",
       "1533  0.29338  2.03972  ...      CL4     CL0       CL4    CL3  CL2  CL0   \n",
       "1698  2.15324  0.76096  ...      CL2     CL0       CL2    CL2  CL2  CL0   \n",
       "1769  1.06238 -0.01729  ...      CL3     CL0       CL4    CL3  CL6  CL3   \n",
       "1806  1.06238 -1.47955  ...      CL4     CL2       CL1    CL4  CL1  CL0   \n",
       "1823  0.88309  1.28610  ...      CL0     CL0       CL0    CL2  CL3  CL0   \n",
       "\n",
       "     Shrooms Nicotine Semer  VSA  \n",
       "727      CL6      CL6   CL2  CL2  \n",
       "817      CL5      CL4   CL3  CL0  \n",
       "1516     CL4      CL2   CL3  CL1  \n",
       "1533     CL3      CL4   CL4  CL3  \n",
       "1698     CL2      CL6   CL2  CL0  \n",
       "1769     CL3      CL3   CL1  CL3  \n",
       "1806     CL1      CL6   CL1  CL2  \n",
       "1823     CL3      CL5   CL2  CL0  \n",
       "\n",
       "[8 rows x 32 columns]"
      ]
     },
     "execution_count": 4,
     "metadata": {},
     "output_type": "execute_result"
    }
   ],
   "source": [
    "semer = drugs[drugs['Semer'] != \"CL0\"]\n",
    "semer"
   ]
  },
  {
   "cell_type": "markdown",
   "metadata": {},
   "source": [
    "Drop all rows containing Semer as a drug used"
   ]
  },
  {
   "cell_type": "code",
   "execution_count": 5,
   "metadata": {},
   "outputs": [],
   "source": [
    "drugs = drugs[drugs['Semer'] == \"CL0\"]"
   ]
  },
  {
   "cell_type": "code",
   "execution_count": 6,
   "metadata": {},
   "outputs": [
    {
     "data": {
      "text/plain": [
       "(1877, 32)"
      ]
     },
     "execution_count": 6,
     "metadata": {},
     "output_type": "execute_result"
    }
   ],
   "source": [
    "drugs.shape"
   ]
  },
  {
   "cell_type": "markdown",
   "metadata": {},
   "source": [
    "Drop the whole column"
   ]
  },
  {
   "cell_type": "code",
   "execution_count": 7,
   "metadata": {},
   "outputs": [],
   "source": [
    "drugs = drugs.drop(\"Semer\", axis=1)"
   ]
  },
  {
   "cell_type": "code",
   "execution_count": 8,
   "metadata": {},
   "outputs": [
    {
     "data": {
      "text/plain": [
       "(1877, 31)"
      ]
     },
     "execution_count": 8,
     "metadata": {},
     "output_type": "execute_result"
    }
   ],
   "source": [
    "drugs.shape"
   ]
  },
  {
   "cell_type": "markdown",
   "metadata": {},
   "source": [
    "## Assumptions"
   ]
  },
  {
   "cell_type": "markdown",
   "metadata": {},
   "source": [
    "**1. :** Certain personality traits will be correlated with a drug abuse. "
   ]
  },
  {
   "cell_type": "markdown",
   "metadata": {},
   "source": [
    "**2. :** For example we expect that ```Sensation Seeking``` and ```Impulsivness``` will have higher correlations"
   ]
  },
  {
   "cell_type": "markdown",
   "metadata": {},
   "source": [
    "**3. :** Depending on educational background, the substances used will differ."
   ]
  },
  {
   "cell_type": "markdown",
   "metadata": {},
   "source": [
    "**4. :** If you seperate legal from illegal drugs, the use rate of legal drugs will be higher in comparison to illegal drugs."
   ]
  },
  {
   "cell_type": "markdown",
   "metadata": {},
   "source": [
    "**5. :** Due to gender differences in personality traits, drug abuse between gender will differ. We expect that ```sensation seekin```\n",
    " will be higher for males and therefore the drug abuse for males will be higher."
   ]
  },
  {
   "cell_type": "markdown",
   "metadata": {},
   "source": [
    "**6. :** Personality traits will not be significantly different between the different ages"
   ]
  },
  {
   "cell_type": "markdown",
   "metadata": {},
   "source": [
    "## Inspecting the variables"
   ]
  },
  {
   "cell_type": "code",
   "execution_count": 9,
   "metadata": {},
   "outputs": [],
   "source": [
    "def plot_hist_numeric(df, figsize=(16, 20), bins=50, xlabelsize=8, ylabelsize=8):\n",
    "    df_num = df.select_dtypes(include = ['float', 'int'])\n",
    "    df_num.hist(figsize=figsize, bins=bins, xlabelsize=xlabelsize, ylabelsize=ylabelsize);"
   ]
  },
  {
   "cell_type": "markdown",
   "metadata": {},
   "source": [
    "## Plot the numerical data"
   ]
  },
  {
   "cell_type": "code",
   "execution_count": 10,
   "metadata": {},
   "outputs": [
    {
     "data": {
      "image/png": "[encoded data removed]",
      "text/plain": [
       "<Figure size 1152x1440 with 16 Axes>"
      ]
     },
     "metadata": {
      "needs_background": "light"
     },
     "output_type": "display_data"
    }
   ],
   "source": [
    "plot_hist_numeric(drugs, figsize=(16, 20), bins=50, xlabelsize=8, ylabelsize=8)"
   ]
  },
  {
   "cell_type": "markdown",
   "metadata": {},
   "source": [
    "## Demografic Data"
   ]
  },
  {
   "cell_type": "markdown",
   "metadata": {},
   "source": [
    "The columns containing the demografic data of our interest are ```age```, ```gender``` and ```education``` "
   ]
  },
  {
   "cell_type": "code",
   "execution_count": 11,
   "metadata": {},
   "outputs": [],
   "source": [
    "demographic_columns = [\n",
    "    'Age', \n",
    "    'Gender', \n",
    "    'Education',\n",
    "]"
   ]
  },
  {
   "cell_type": "code",
   "execution_count": 12,
   "metadata": {},
   "outputs": [],
   "source": [
    "age = ['18-24' if a <= -0.9 else \n",
    "       '25-34' if a >= -0.5 and a < 0 else \n",
    "       '35-44' if a > 0 and a < 1 else \n",
    "       '45-54' if a > 1 and a < 1.5 else \n",
    "       '55-64' if a > 1.5 and a < 2 else \n",
    "       '65+' \n",
    "       for a in drugs['Age']]\n",
    "\n",
    "drugs[\"Age\"] = age"
   ]
  },
  {
   "cell_type": "code",
   "execution_count": 13,
   "metadata": {},
   "outputs": [
    {
     "data": {
      "text/plain": [
       "<AxesSubplot:xlabel='Age', ylabel='count'>"
      ]
     },
     "execution_count": 13,
     "metadata": {},
     "output_type": "execute_result"
    },
    {
     "data": {
      "image/png": "[encoded data removed]",
      "text/plain": [
       "<Figure size 432x288 with 1 Axes>"
      ]
     },
     "metadata": {
      "needs_background": "light"
     },
     "output_type": "display_data"
    }
   ],
   "source": [
    "sns.countplot(x='Age', data=drugs)"
   ]
  },
  {
   "cell_type": "code",
   "execution_count": 14,
   "metadata": {},
   "outputs": [],
   "source": [
    "gender = ['Female' if g > 0 else \"Male\" for g in drugs['Gender']]\n",
    "\n",
    "drugs[\"Gender\"] = gender"
   ]
  },
  {
   "cell_type": "code",
   "execution_count": 15,
   "metadata": {},
   "outputs": [
    {
     "data": {
      "text/plain": [
       "<AxesSubplot:xlabel='Gender', ylabel='count'>"
      ]
     },
     "execution_count": 15,
     "metadata": {},
     "output_type": "execute_result"
    },
    {
     "data": {
      "image/png": "[encoded data removed]",
      "text/plain": [
       "<Figure size 432x288 with 1 Axes>"
      ]
     },
     "metadata": {
      "needs_background": "light"
     },
     "output_type": "display_data"
    }
   ],
   "source": [
    "sns.countplot(x='Gender', data=drugs)"
   ]
  },
  {
   "cell_type": "code",
   "execution_count": 16,
   "metadata": {},
   "outputs": [],
   "source": [
    "education = ['Left school before 16 years' if e <-2 else \n",
    "             'Left school at 16 years' if e > -2 and e < -1.5 else \n",
    "             'Left school at 17 years' if e > -1.5 and e < -1.4 else \n",
    "             'Left school at 18 years' if e > -1.4 and e < -1 else \n",
    "             'Some college or university, no certificate or degree' if e > -1 and e < -0.5 else \n",
    "             'Professional certificate/ diploma' if e > -0.5 and e < 0 else \n",
    "             'University degree' if e > 0 and e < 0.5 else \n",
    "             'Masters degree' if e > 0.5 and e < 1.5 else \n",
    "             'Doctorate degree' \n",
    "             for e in drugs['Education']]\n",
    "\n",
    "drugs[\"Education\"] = education"
   ]
  },
  {
   "cell_type": "code",
   "execution_count": 17,
   "metadata": {},
   "outputs": [
    {
     "data": {
      "text/plain": [
       "<AxesSubplot:xlabel='Education', ylabel='count'>"
      ]
     },
     "execution_count": 17,
     "metadata": {},
     "output_type": "execute_result"
    },
    {
     "data": {
      "image/png": "[encoded data removed]",
      "text/plain": [
       "<Figure size 432x288 with 1 Axes>"
      ]
     },
     "metadata": {
      "needs_background": "light"
     },
     "output_type": "display_data"
    }
   ],
   "source": [
    "edu_plot = sns.countplot(x='Education', palette='ch:.25', data=drugs.sort_values(by=['Education']))\n",
    "edu_plot.set_xticklabels(edu_plot.get_xticklabels(), rotation=40, ha=\"right\")\n",
    "edu_plot"
   ]
  },
  {
   "cell_type": "markdown",
   "metadata": {},
   "source": [
    "## Drug data"
   ]
  },
  {
   "cell_type": "code",
   "execution_count": 18,
   "metadata": {},
   "outputs": [],
   "source": [
    "drugs_columns = [\n",
    "    'Alcohol',\n",
    "    'Amphet',\n",
    "    'Amyl',\n",
    "    'Benzos',\n",
    "    'Caff',\n",
    "    'Cannabis',\n",
    "    'Choc',\n",
    "    'Coke',\n",
    "    'Crack',\n",
    "    'Ecstasy',\n",
    "    'Heroin',\n",
    "    'Ketamine',\n",
    "    'Legalh',\n",
    "    'LSD',\n",
    "    'Meth',\n",
    "    'Shrooms',\n",
    "    'Nicotine',\n",
    "    'VSA'\n",
    "]\n",
    "\n",
    "for i in drugs_columns:\n",
    "    drugs[i] = drugs[i].apply(lambda x: int(x[-1]))\n",
    " "
   ]
  },
  {
   "cell_type": "code",
   "execution_count": 19,
   "metadata": {},
   "outputs": [],
   "source": [
    "for i in drugs_columns:\n",
    "    drugs[i] = drugs[i].apply(lambda x: 0 if x <3 else 1)"
   ]
  },
  {
   "cell_type": "code",
   "execution_count": 20,
   "metadata": {
    "jupyter": {
     "source_hidden": true
    }
   },
   "outputs": [
    {
     "data": {
      "text/plain": [
       "[<matplotlib.axis.XTick at 0x7fda883c6cd0>,\n",
       " <matplotlib.axis.XTick at 0x7fda883c6ca0>]"
      ]
     },
     "execution_count": 20,
     "metadata": {},
     "output_type": "execute_result"
    },
    {
     "data": {
      "image/png": "[encoded data removed]",
      "text/plain": [
       "<Figure size 1440x1440 with 18 Axes>"
      ]
     },
     "metadata": {
      "needs_background": "light"
     },
     "output_type": "display_data"
    }
   ],
   "source": [
    "fig, ax = plt.subplots(ncols=3, nrows=6, figsize=(20,20))\n",
    "\n",
    "\n",
    "f1 = sns.countplot(x='Amphet', data=drugs, ax=ax[0,0]);\n",
    "f1.set_xticks(range(0, 2))\n",
    "\n",
    "f2 = sns.countplot(x='Amyl', data=drugs, ax=ax[0,1])\n",
    "f2.set_xticks(range(0, 2))\n",
    "\n",
    "f3 = sns.countplot(x='Benzos', data=drugs, ax=ax[0,2])\n",
    "f3.set_xticks(range(0, 2))\n",
    "\n",
    "\n",
    "f4 = sns.countplot(x='Caff', data=drugs, ax=ax[1,0])\n",
    "f4.set_xticks(range(0, 2))\n",
    "\n",
    "f5 = sns.countplot(x='Cannabis', data=drugs, ax=ax[1,1])\n",
    "f5.set_xticks(range(0, 2))\n",
    "\n",
    "f6 = sns.countplot(x='Choc', data=drugs, ax=ax[1,2])\n",
    "f6.set_xticks(range(0, 2))\n",
    "\n",
    "\n",
    "f7 = sns.countplot(x='Coke', data=drugs, ax=ax[2,0])\n",
    "f7.set_xticks(range(0, 2))\n",
    "\n",
    "f8 = sns.countplot(x='Crack', data=drugs, ax=ax[2,1])\n",
    "f8.set_xticks(range(0, 2))\n",
    "\n",
    "f9 = sns.countplot(x='Ecstasy', data=drugs, ax=ax[2,2])\n",
    "f9.set_xticks(range(0, 2))\n",
    "\n",
    "\n",
    "f10 = sns.countplot(x='Heroin', data=drugs, ax=ax[3,0])\n",
    "f10.set_xticks(range(0, 2))\n",
    "\n",
    "f11 = sns.countplot(x='Ketamine', data=drugs, ax=ax[3,1])\n",
    "f11.set_xticks(range(0, 2))\n",
    "\n",
    "f12 = sns.countplot(x='Legalh', data=drugs, ax=ax[3,2])\n",
    "f12.set_xticks(range(0, 2))\n",
    "\n",
    "\n",
    "f13 = sns.countplot(x='LSD', data=drugs, ax=ax[4,0])\n",
    "f13.set_xticks(range(0, 2))\n",
    "\n",
    "f14 = sns.countplot(x='Meth', data=drugs, ax=ax[4,1])\n",
    "f14.set_xticks(range(0, 2))\n",
    "\n",
    "f15 = sns.countplot(x='Shrooms', data=drugs, ax=ax[4,2])\n",
    "f15.set_xticks(range(0, 2))\n",
    "\n",
    "\n",
    "f16 = sns.countplot(x='Nicotine', data=drugs, ax=ax[5,0])\n",
    "f16.set_xticks(range(0, 2))\n",
    "\n",
    "\n",
    "f17 = sns.countplot(x='VSA', data=drugs, ax=ax[5,1])\n",
    "f17.set_xticks(range(0, 2))\n",
    "\n",
    "f18 = sns.countplot(x='Alcohol', data=drugs, ax=ax[5,2])\n",
    "f18.set_xticks(range(0, 2))"
   ]
  },
  {
   "cell_type": "markdown",
   "metadata": {},
   "source": [
    "## Personality Data"
   ]
  },
  {
   "cell_type": "code",
   "execution_count": null,
   "metadata": {},
   "outputs": [],
   "source": [
    "personality_columns = [\n",
    "    'Neuroticism',\n",
    "    'Extraversion',\n",
    "    'Openness to experience',\n",
    "    'Agreeableness',\n",
    "    'Conscientiousness',\n",
    "    'Impulsiveness',\n",
    "    'Sensation seeking'\n",
    "]"
   ]
  },
  {
   "cell_type": "code",
   "execution_count": null,
   "metadata": {},
   "outputs": [],
   "source": []
  },
  {
   "cell_type": "markdown",
   "metadata": {},
   "source": [
    "## Adding new drug columns"
   ]
  },
  {
   "cell_type": "code",
   "execution_count": 21,
   "metadata": {},
   "outputs": [],
   "source": [
    "drugs = drugs.drop(\"Choc\", axis=1)\n",
    "drugs = drugs.drop(\"Caff\", axis=1)"
   ]
  },
  {
   "cell_type": "code",
   "execution_count": 22,
   "metadata": {},
   "outputs": [
    {
     "data": {
      "text/plain": [
       "(1877, 29)"
      ]
     },
     "execution_count": 22,
     "metadata": {},
     "output_type": "execute_result"
    }
   ],
   "source": [
    "drugs.shape"
   ]
  },
  {
   "cell_type": "code",
   "execution_count": 24,
   "metadata": {},
   "outputs": [],
   "source": [
    "legal_drug = []\n",
    "\n",
    "\n",
    "\n",
    "\n",
    "for alc, nic in zip(drugs[\"Alcohol\"].tolist(), drugs[\"Nicotine\"].tolist()):\n",
    "    if alc == 1 or nic == 1:\n",
    "        legal_drug.append(1)\n",
    "    else:\n",
    "        legal_drug.append(0)"
   ]
  },
  {
   "cell_type": "code",
   "execution_count": 28,
   "metadata": {},
   "outputs": [],
   "source": [
    "drugs[\"legal_drugs\"] = legal_drug"
   ]
  },
  {
   "cell_type": "code",
   "execution_count": null,
   "metadata": {},
   "outputs": [],
   "source": [
    "illlegal_drug = []\n",
    "\n"
   ]
  },
  {
   "cell_type": "code",
   "execution_count": 30,
   "metadata": {},
   "outputs": [
    {
     "name": "stdout",
     "output_type": "stream",
     "text": [
      "<class 'pandas.core.frame.DataFrame'>\n",
      "Int64Index: 1877 entries, 0 to 1884\n",
      "Data columns (total 28 columns):\n",
      " #   Column       Non-Null Count  Dtype  \n",
      "---  ------       --------------  -----  \n",
      " 0   ID           1877 non-null   int64  \n",
      " 1   Age          1877 non-null   object \n",
      " 2   Gender       1877 non-null   object \n",
      " 3   Education    1877 non-null   object \n",
      " 4   Country      1877 non-null   float64\n",
      " 5   Ethnicity    1877 non-null   float64\n",
      " 6   Nscore       1877 non-null   float64\n",
      " 7   Escore       1877 non-null   float64\n",
      " 8   Oscore       1877 non-null   float64\n",
      " 9   Ascore       1877 non-null   float64\n",
      " 10  Cscore       1877 non-null   float64\n",
      " 11  Impulsive    1877 non-null   float64\n",
      " 12  SS           1877 non-null   float64\n",
      " 13  Amphet       1877 non-null   int64  \n",
      " 14  Amyl         1877 non-null   int64  \n",
      " 15  Benzos       1877 non-null   int64  \n",
      " 16  Cannabis     1877 non-null   int64  \n",
      " 17  Coke         1877 non-null   int64  \n",
      " 18  Crack        1877 non-null   int64  \n",
      " 19  Ecstasy      1877 non-null   int64  \n",
      " 20  Heroin       1877 non-null   int64  \n",
      " 21  Ketamine     1877 non-null   int64  \n",
      " 22  Legalh       1877 non-null   int64  \n",
      " 23  LSD          1877 non-null   int64  \n",
      " 24  Meth         1877 non-null   int64  \n",
      " 25  Shrooms      1877 non-null   int64  \n",
      " 26  VSA          1877 non-null   int64  \n",
      " 27  legal_drugs  1877 non-null   int64  \n",
      "dtypes: float64(9), int64(16), object(3)\n",
      "memory usage: 505.3+ KB\n"
     ]
    }
   ],
   "source": [
    "df_temp = drugs\n",
    "\n",
    "df_temp = df_temp.drop(\"Alcohol\", axis=1)\n",
    "\n",
    "df_temp = df_temp.drop(\"Nicotine\", axis=1)"
   ]
  },
  {
   "cell_type": "code",
   "execution_count": 31,
   "metadata": {},
   "outputs": [],
   "source": [
    "df_temp = df_temp.drop(\"legal_drugs\", axis=1)"
   ]
  },
  {
   "cell_type": "code",
   "execution_count": 32,
   "metadata": {},
   "outputs": [
    {
     "name": "stdout",
     "output_type": "stream",
     "text": [
      "<class 'pandas.core.frame.DataFrame'>\n",
      "Int64Index: 1877 entries, 0 to 1884\n",
      "Data columns (total 27 columns):\n",
      " #   Column     Non-Null Count  Dtype  \n",
      "---  ------     --------------  -----  \n",
      " 0   ID         1877 non-null   int64  \n",
      " 1   Age        1877 non-null   object \n",
      " 2   Gender     1877 non-null   object \n",
      " 3   Education  1877 non-null   object \n",
      " 4   Country    1877 non-null   float64\n",
      " 5   Ethnicity  1877 non-null   float64\n",
      " 6   Nscore     1877 non-null   float64\n",
      " 7   Escore     1877 non-null   float64\n",
      " 8   Oscore     1877 non-null   float64\n",
      " 9   Ascore     1877 non-null   float64\n",
      " 10  Cscore     1877 non-null   float64\n",
      " 11  Impulsive  1877 non-null   float64\n",
      " 12  SS         1877 non-null   float64\n",
      " 13  Amphet     1877 non-null   int64  \n",
      " 14  Amyl       1877 non-null   int64  \n",
      " 15  Benzos     1877 non-null   int64  \n",
      " 16  Cannabis   1877 non-null   int64  \n",
      " 17  Coke       1877 non-null   int64  \n",
      " 18  Crack      1877 non-null   int64  \n",
      " 19  Ecstasy    1877 non-null   int64  \n",
      " 20  Heroin     1877 non-null   int64  \n",
      " 21  Ketamine   1877 non-null   int64  \n",
      " 22  Legalh     1877 non-null   int64  \n",
      " 23  LSD        1877 non-null   int64  \n",
      " 24  Meth       1877 non-null   int64  \n",
      " 25  Shrooms    1877 non-null   int64  \n",
      " 26  VSA        1877 non-null   int64  \n",
      "dtypes: float64(9), int64(15), object(3)\n",
      "memory usage: 490.6+ KB\n"
     ]
    }
   ],
   "source": [
    "df_temp.info()"
   ]
  },
  {
   "cell_type": "code",
   "execution_count": 33,
   "metadata": {},
   "outputs": [],
   "source": [
    "df_temp[\"illegal_drugs\"] = df_temp.iloc[:, 13:].sum(axis=1)"
   ]
  },
  {
   "cell_type": "code",
   "execution_count": 35,
   "metadata": {},
   "outputs": [],
   "source": [
    "df_temp[\"illegal_drugs\"] = df_temp[\"illegal_drugs\"].apply(lambda x: 0 if x<1 else 1)"
   ]
  },
  {
   "cell_type": "code",
   "execution_count": 37,
   "metadata": {},
   "outputs": [],
   "source": [
    "drugs = pd.concat([df_temp[\"illegal_drugs\"], drugs], axis=1)"
   ]
  },
  {
   "cell_type": "code",
   "execution_count": 39,
   "metadata": {},
   "outputs": [
    {
     "data": {
      "text/plain": [
       "Index(['illegal_drugs', 'ID', 'Age', 'Gender', 'Education', 'Country',\n",
       "       'Ethnicity', 'Nscore', 'Escore', 'Oscore', 'Ascore', 'Cscore',\n",
       "       'Impulsive', 'SS', 'Alcohol', 'Amphet', 'Amyl', 'Benzos', 'Cannabis',\n",
       "       'Coke', 'Crack', 'Ecstasy', 'Heroin', 'Ketamine', 'Legalh', 'LSD',\n",
       "       'Meth', 'Shrooms', 'Nicotine', 'VSA', 'legal_drugs'],\n",
       "      dtype='object')"
      ]
     },
     "execution_count": 39,
     "metadata": {},
     "output_type": "execute_result"
    }
   ],
   "source": [
    "drugs.columns"
   ]
  },
  {
   "cell_type": "code",
   "execution_count": null,
   "metadata": {},
   "outputs": [],
   "source": []
  }
 ],
 "metadata": {
  "kernelspec": {
   "display_name": "Python [conda env:druguse]",
   "language": "python",
   "name": "conda-env-druguse-py"
  },
  "language_info": {
   "codemirror_mode": {
    "name": "ipython",
    "version": 3
   },
   "file_extension": ".py",
   "mimetype": "text/x-python",
   "name": "python",
   "nbconvert_exporter": "python",
   "pygments_lexer": "ipython3",
   "version": "3.8.5"
  }
 },
 "nbformat": 4,
 "nbformat_minor": 4
}
