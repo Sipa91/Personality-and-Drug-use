{
 "cells": [
  {
   "cell_type": "markdown",
   "metadata": {},
   "source": [
    "### Data preprocessing"
   ]
  },
  {
   "cell_type": "code",
   "execution_count": 1,
   "metadata": {},
   "outputs": [],
   "source": [
    "# Importing necessary modules\n",
    "import pandas as pd\n",
    "import warnings\n",
    "import numpy as np\n",
    "import matplotlib.pyplot as plt"
   ]
  },
  {
   "cell_type": "code",
   "execution_count": 2,
   "metadata": {},
   "outputs": [],
   "source": [
    "#import the dataset\n",
    "drugs = pd.read_excel(\"/Users/kevintomas/Desktop/nf-sep-20/Personality-and-Drug-use/drug_consumption.xls\")"
   ]
  },
  {
   "cell_type": "code",
   "execution_count": 3,
   "metadata": {},
   "outputs": [],
   "source": [
    "#Renaming Personality trait columns\n",
    "drugs=drugs.rename(columns={\"Escore\":\"Extraversion\", \"Nscore\":\"Neuroticism\", \"Oscore\":\"Openness\", \n",
    "                      \"Ascore\":\"Agreeableness\",\"Cscore\":\"Conscientiousness\", \"Impulsive\":\"Impulsiveness\",\n",
    "                     \"SS\":\"Sensation_Seeking\"})"
   ]
  },
  {
   "cell_type": "code",
   "execution_count": 4,
   "metadata": {},
   "outputs": [],
   "source": [
    "#Renaming drug columns\n",
    "drugs=drugs.rename(columns={\"Amphet\":\"Amphetamines\", \"Amyl\":\"Amyl_Nitrite\", \"Coke\":\"Cocaine\", \n",
    "                      \"Legalh\":\"Legal_Highs\",\"Caff\":\"Caffein\", \"Choc\":\"Chocolate\",\n",
    "                     \"Shrooms\":\"Mushrooms\"})"
   ]
  },
  {
   "cell_type": "code",
   "execution_count": 5,
   "metadata": {},
   "outputs": [],
   "source": [
    "#Handle the semer columns\n",
    "drugs = drugs[drugs['Semer'] == \"CL0\"]\n",
    "drugs = drugs.drop(\"Semer\", axis=1)"
   ]
  },
  {
   "cell_type": "code",
   "execution_count": 6,
   "metadata": {},
   "outputs": [],
   "source": [
    "#tranforming the drugs columns\n",
    "drugs_columns = [\n",
    "    'Alcohol',\n",
    "    'Amphetamines',\n",
    "    'Amyl_Nitrite',\n",
    "    'Benzos',\n",
    "    'Caffein',\n",
    "    'Cannabis',\n",
    "    'Chocolate',\n",
    "    'Cocaine',\n",
    "    'Crack',\n",
    "    'Ecstasy',\n",
    "    'Heroin',\n",
    "    'Ketamine',\n",
    "    'Legal_Highs',\n",
    "    'LSD',\n",
    "    'Meth',\n",
    "    'Mushrooms',\n",
    "    'Nicotine',\n",
    "    'VSA'\n",
    "]\n",
    "# Changing staments concerning drug usage into integers\n",
    "for i in drugs_columns:\n",
    "    drugs[i] = drugs[i].apply(lambda x: int(x[-1]))"
   ]
  },
  {
   "cell_type": "markdown",
   "metadata": {},
   "source": [
    "***An dieser Stelle könnte man yearly, monthly, weekly, daily user unterscheiden***"
   ]
  },
  {
   "cell_type": "code",
   "execution_count": 7,
   "metadata": {},
   "outputs": [],
   "source": [
    "#splitting users from non-users\n",
    "for i in drugs_columns:\n",
    "    drugs[i] = drugs[i].apply(lambda x: 0 if x <3 else 1)"
   ]
  },
  {
   "cell_type": "code",
   "execution_count": 8,
   "metadata": {},
   "outputs": [],
   "source": [
    "#dropping chocolate and caffein\n",
    "drugs = drugs.drop(\"Chocolate\", axis=1)\n",
    "drugs = drugs.drop(\"Caffein\", axis=1)"
   ]
  },
  {
   "cell_type": "code",
   "execution_count": 9,
   "metadata": {},
   "outputs": [],
   "source": [
    "#splitting legal from illegal drugs\n",
    "df_temp = drugs\n",
    "\n",
    "df_temp = df_temp.drop(\"Alcohol\", axis=1)\n",
    "\n",
    "df_temp = df_temp.drop(\"Nicotine\", axis=1)\n",
    "\n",
    "#df_temp = df_temp.drop(\"legal_drugs\", axis=1)"
   ]
  },
  {
   "cell_type": "code",
   "execution_count": 10,
   "metadata": {},
   "outputs": [],
   "source": [
    "df_temp[\"illegal_drugs\"] = df_temp.iloc[:, 13:].sum(axis=1)"
   ]
  },
  {
   "cell_type": "code",
   "execution_count": 11,
   "metadata": {},
   "outputs": [],
   "source": [
    "df_temp[\"illegal_drugs\"] = df_temp[\"illegal_drugs\"].apply(lambda x: 0 if x<1 else 1)"
   ]
  },
  {
   "cell_type": "code",
   "execution_count": 12,
   "metadata": {},
   "outputs": [],
   "source": [
    "drugs = pd.concat([df_temp[\"illegal_drugs\"], drugs], axis=1)"
   ]
  },
  {
   "cell_type": "code",
   "execution_count": 13,
   "metadata": {},
   "outputs": [],
   "source": [
    "drugs = drugs.drop(\"Alcohol\", axis=1)"
   ]
  },
  {
   "cell_type": "code",
   "execution_count": 14,
   "metadata": {},
   "outputs": [],
   "source": [
    "#converting the countries\n",
    "country = ['USA' if c < -0.5 else \n",
    "           'New Zealand' if c > -0.5 and c < -0.4 else \n",
    "           'Other' if c > -0.4 and c < -0.2 else \n",
    "           'Australia' if c > -0.2 and c < 0 else \n",
    "           'Ireland' if c > 0 and c < 0.23 else \n",
    "           'Canada' if c > 0.23 and c < 0.9 else \n",
    "           'UK' \n",
    "           for c in drugs['Country']]"
   ]
  },
  {
   "cell_type": "code",
   "execution_count": 15,
   "metadata": {},
   "outputs": [],
   "source": [
    "drugs['Country'] = country"
   ]
  },
  {
   "cell_type": "code",
   "execution_count": 16,
   "metadata": {},
   "outputs": [],
   "source": [
    "education = ['Left school before 16 years' if e <-2 else \n",
    "             'Left school at 16 years' if e > -2 and e < -1.5 else \n",
    "             'Left school at 17 years' if e > -1.5 and e < -1.4 else \n",
    "             'Left school at 18 years' if e > -1.4 and e < -1 else \n",
    "             'Some college or university, no certificate or degree' if e > -1 and e < -0.5 else \n",
    "             'Professional certificate/ diploma' if e > -0.5 and e < 0 else \n",
    "             'University degree' if e > 0 and e < 0.5 else \n",
    "             'Masters degree' if e > 0.5 and e < 1.5 else \n",
    "             'Doctorate degree' \n",
    "             for e in drugs['Education']]\n",
    "\n",
    "drugs[\"Education\"] = education"
   ]
  },
  {
   "cell_type": "code",
   "execution_count": 17,
   "metadata": {},
   "outputs": [],
   "source": [
    "#converting the age column\n",
    "warnings.filterwarnings('ignore')\n",
    "\n",
    "age = ['18-24' if a <= -0.9 else \n",
    "       '25-34' if a >= -0.5 and a < 0 else \n",
    "       '35-44' if a > 0 and a < 1 else \n",
    "       '45-54' if a > 1 and a < 1.5 else \n",
    "       '55-64' if a > 1.5 and a < 2 else \n",
    "       '65+' \n",
    "       for a in drugs['Age']]\n",
    "\n",
    "drugs[\"Age\"] = age"
   ]
  },
  {
   "cell_type": "code",
   "execution_count": 18,
   "metadata": {},
   "outputs": [],
   "source": [
    "#drop the 65+\n",
    "drugs = drugs.query(\"Age != '65+'\")"
   ]
  },
  {
   "cell_type": "code",
   "execution_count": 19,
   "metadata": {},
   "outputs": [],
   "source": [
    "# women == 1 and men == 0\n",
    "drugs.Gender = drugs.Gender.apply(lambda x: 1 if x > 0 else 0)"
   ]
  },
  {
   "cell_type": "code",
   "execution_count": 20,
   "metadata": {},
   "outputs": [],
   "source": [
    "#drop columns we dont need\n",
    "drugs = drugs.drop([\"ID\",\"Ethnicity\", \"Country\"], axis=1)"
   ]
  },
  {
   "cell_type": "code",
   "execution_count": 21,
   "metadata": {},
   "outputs": [],
   "source": [
    "drugs = drugs.iloc[:, :12]"
   ]
  },
  {
   "cell_type": "code",
   "execution_count": 22,
   "metadata": {},
   "outputs": [
    {
     "name": "stdout",
     "output_type": "stream",
     "text": [
      "<class 'pandas.core.frame.DataFrame'>\n",
      "Int64Index: 1859 entries, 0 to 1884\n",
      "Data columns (total 12 columns):\n",
      " #   Column             Non-Null Count  Dtype  \n",
      "---  ------             --------------  -----  \n",
      " 0   illegal_drugs      1859 non-null   int64  \n",
      " 1   Age                1859 non-null   object \n",
      " 2   Gender             1859 non-null   int64  \n",
      " 3   Education          1859 non-null   object \n",
      " 4   Neuroticism        1859 non-null   float64\n",
      " 5   Extraversion       1859 non-null   float64\n",
      " 6   Openness           1859 non-null   float64\n",
      " 7   Agreeableness      1859 non-null   float64\n",
      " 8   Conscientiousness  1859 non-null   float64\n",
      " 9   Impulsiveness      1859 non-null   float64\n",
      " 10  Sensation_Seeking  1859 non-null   float64\n",
      " 11  Amphetamines       1859 non-null   int64  \n",
      "dtypes: float64(7), int64(3), object(2)\n",
      "memory usage: 188.8+ KB\n"
     ]
    }
   ],
   "source": [
    "drugs.info()"
   ]
  },
  {
   "cell_type": "markdown",
   "metadata": {},
   "source": [
    "## Dummies for Age, Education and Country"
   ]
  },
  {
   "cell_type": "code",
   "execution_count": 23,
   "metadata": {},
   "outputs": [],
   "source": [
    "age = pd.get_dummies(drugs['Age'],drop_first=True)\n",
    "education = pd.get_dummies(drugs['Education'],drop_first=True)"
   ]
  },
  {
   "cell_type": "code",
   "execution_count": 24,
   "metadata": {},
   "outputs": [],
   "source": [
    "drugs = drugs.drop([\"Age\",\"Education\"], axis=1)"
   ]
  },
  {
   "cell_type": "code",
   "execution_count": 25,
   "metadata": {},
   "outputs": [],
   "source": [
    "drugs = drugs.drop(\"Amphetamines\", axis=1)"
   ]
  },
  {
   "cell_type": "code",
   "execution_count": 26,
   "metadata": {},
   "outputs": [],
   "source": [
    "drugs = pd.concat([drugs,education,age],axis=1)"
   ]
  },
  {
   "cell_type": "code",
   "execution_count": 27,
   "metadata": {},
   "outputs": [
    {
     "name": "stdout",
     "output_type": "stream",
     "text": [
      "<class 'pandas.core.frame.DataFrame'>\n",
      "Int64Index: 1859 entries, 0 to 1884\n",
      "Data columns (total 21 columns):\n",
      " #   Column                                                Non-Null Count  Dtype  \n",
      "---  ------                                                --------------  -----  \n",
      " 0   illegal_drugs                                         1859 non-null   int64  \n",
      " 1   Gender                                                1859 non-null   int64  \n",
      " 2   Neuroticism                                           1859 non-null   float64\n",
      " 3   Extraversion                                          1859 non-null   float64\n",
      " 4   Openness                                              1859 non-null   float64\n",
      " 5   Agreeableness                                         1859 non-null   float64\n",
      " 6   Conscientiousness                                     1859 non-null   float64\n",
      " 7   Impulsiveness                                         1859 non-null   float64\n",
      " 8   Sensation_Seeking                                     1859 non-null   float64\n",
      " 9   Left school at 16 years                               1859 non-null   uint8  \n",
      " 10  Left school at 17 years                               1859 non-null   uint8  \n",
      " 11  Left school at 18 years                               1859 non-null   uint8  \n",
      " 12  Left school before 16 years                           1859 non-null   uint8  \n",
      " 13  Masters degree                                        1859 non-null   uint8  \n",
      " 14  Professional certificate/ diploma                     1859 non-null   uint8  \n",
      " 15  Some college or university, no certificate or degree  1859 non-null   uint8  \n",
      " 16  University degree                                     1859 non-null   uint8  \n",
      " 17  25-34                                                 1859 non-null   uint8  \n",
      " 18  35-44                                                 1859 non-null   uint8  \n",
      " 19  45-54                                                 1859 non-null   uint8  \n",
      " 20  55-64                                                 1859 non-null   uint8  \n",
      "dtypes: float64(7), int64(2), uint8(12)\n",
      "memory usage: 167.0 KB\n"
     ]
    }
   ],
   "source": [
    "drugs.info()"
   ]
  },
  {
   "cell_type": "markdown",
   "metadata": {},
   "source": [
    "## Balancing"
   ]
  },
  {
   "cell_type": "markdown",
   "metadata": {},
   "source": [
    "***Undersampling the class 0***"
   ]
  },
  {
   "cell_type": "code",
   "execution_count": 28,
   "metadata": {},
   "outputs": [],
   "source": [
    "count_class_1, count_class_0 = drugs.illegal_drugs.value_counts()"
   ]
  },
  {
   "cell_type": "code",
   "execution_count": 29,
   "metadata": {},
   "outputs": [],
   "source": [
    "drugs_class_0 = drugs[drugs['illegal_drugs'] == 0]\n",
    "drugs_class_1 = drugs[drugs['illegal_drugs'] == 1]"
   ]
  },
  {
   "cell_type": "code",
   "execution_count": 30,
   "metadata": {},
   "outputs": [],
   "source": [
    "drugs_class_1_under = drugs_class_1.sample(count_class_0, replace=True)"
   ]
  },
  {
   "cell_type": "code",
   "execution_count": 31,
   "metadata": {},
   "outputs": [],
   "source": [
    "drugs = pd.concat([drugs_class_1_under, drugs_class_0], axis=0)"
   ]
  },
  {
   "cell_type": "markdown",
   "metadata": {},
   "source": [
    "## Building the model"
   ]
  },
  {
   "cell_type": "code",
   "execution_count": 32,
   "metadata": {},
   "outputs": [],
   "source": [
    "from sklearn.model_selection import train_test_split, GridSearchCV, RandomizedSearchCV\n",
    "from sklearn.neighbors import KNeighborsClassifier\n",
    "from sklearn.linear_model import LogisticRegression\n",
    "from sklearn.ensemble import RandomForestClassifier\n",
    "from sklearn.model_selection import KFold\n",
    "from sklearn import linear_model, svm\n",
    "from sklearn.svm import SVC\n",
    "from xgboost import XGBClassifier\n",
    "from scipy import stats\n",
    "from scipy.stats import randint\n",
    "from sklearn.tree import DecisionTreeClassifier \n",
    "from sklearn.metrics import plot_confusion_matrix\n",
    "from sklearn.metrics import mean_squared_error, r2_score, confusion_matrix, classification_report, make_scorer, fbeta_score, plot_confusion_matrix, roc_auc_score, accuracy_score, recall_score, precision_score"
   ]
  },
  {
   "cell_type": "markdown",
   "metadata": {},
   "source": [
    "***Generally:*** \n",
    "* Target value is ```illegal drugs```. If we would include all drugs, the target value would be highly inbalanced. The **balance** of the target is following: **61% (non-users) vs. 39 (user)**\n",
    "\n",
    "* Only the **UK data** is used. The balance of the target value differs significantly from country to country, so a generalization from other countries to UK are diffcult\n",
    "* ```ID```, ```Age``` and ```Education``` are dropped, because we are predicting the drug use for school students and therefore these columns would not make sense to be included\n",
    "* ```Country``` can also be dropped due to the fact, that our scenario plays in the UK\n",
    "* ```Ethnicity``` is also dropped\n",
    "* All of the ```drug columns``` can be dropped, beacuse the target value is the subject of interest and the target arises from these columns\n",
    "* So the **focus** of the model really lies on **the personaltiy traits** and less on the demografics\n"
   ]
  },
  {
   "cell_type": "markdown",
   "metadata": {},
   "source": [
    "***Result:***\n",
    "* Columns included: ```Gender```, ```Nscore```, ```Escore```, ```Oscore```, ```Ascore```, ```Cscore```, ```Impulsive```, ```SS``` and the **target** ```illegal_drugs```"
   ]
  },
  {
   "cell_type": "markdown",
   "metadata": {},
   "source": [
    "### Splitting the data"
   ]
  },
  {
   "cell_type": "code",
   "execution_count": 33,
   "metadata": {},
   "outputs": [],
   "source": [
    "y = np.array(drugs.pop('illegal_drugs'))\n",
    "X = drugs.iloc[:, 0:]"
   ]
  },
  {
   "cell_type": "code",
   "execution_count": 34,
   "metadata": {},
   "outputs": [],
   "source": [
    "X_train, X_test, y_train, y_test = train_test_split(X, y, test_size = .3, random_state=25)"
   ]
  },
  {
   "cell_type": "markdown",
   "metadata": {},
   "source": [
    "## LogReg"
   ]
  },
  {
   "cell_type": "code",
   "execution_count": 35,
   "metadata": {
    "jupyter": {
     "source_hidden": true
    }
   },
   "outputs": [],
   "source": [
    "LogReg = LogisticRegression()\n",
    "LogReg.fit(X_train, y_train)\n",
    "y_pred_logreg = LogReg.predict(X_test)"
   ]
  },
  {
   "cell_type": "code",
   "execution_count": 36,
   "metadata": {
    "jupyter": {
     "source_hidden": true
    }
   },
   "outputs": [
    {
     "name": "stdout",
     "output_type": "stream",
     "text": [
      "              precision    recall  f1-score   support\n",
      "\n",
      "           0       0.81      0.85      0.83       211\n",
      "           1       0.84      0.80      0.82       205\n",
      "\n",
      "    accuracy                           0.82       416\n",
      "   macro avg       0.82      0.82      0.82       416\n",
      "weighted avg       0.82      0.82      0.82       416\n",
      "\n"
     ]
    }
   ],
   "source": [
    "print(classification_report(y_test, y_pred_logreg ))"
   ]
  },
  {
   "cell_type": "code",
   "execution_count": 37,
   "metadata": {
    "jupyter": {
     "source_hidden": true
    }
   },
   "outputs": [
    {
     "data": {
      "image/png": "[encoded data removed]",
      "text/plain": [
       "<Figure size 432x288 with 2 Axes>"
      ]
     },
     "metadata": {
      "needs_background": "light"
     },
     "output_type": "display_data"
    }
   ],
   "source": [
    "disp = plot_confusion_matrix(LogReg, X_test, y_test,\n",
    "                             display_labels=['negative', 'positive'],\n",
    "                             cmap=plt.cm.Blues, \n",
    "                             normalize=None,\n",
    "                             values_format = 'd')\n",
    "\n",
    "plt.grid(False)\n",
    "plt.show()"
   ]
  },
  {
   "cell_type": "markdown",
   "metadata": {},
   "source": [
    "### Changed the threshold to 0.4"
   ]
  },
  {
   "cell_type": "code",
   "execution_count": 38,
   "metadata": {
    "jupyter": {
     "source_hidden": true
    }
   },
   "outputs": [],
   "source": [
    "LogReg = LogisticRegression()\n",
    "LogReg.fit(X_train, y_train)\n",
    "y_pred_logreg  = LogReg.predict(X_test)\n",
    "\n",
    "y_pred_tuned = (LogReg.predict_proba(X_test) >= 0.4)[:,1]"
   ]
  },
  {
   "cell_type": "code",
   "execution_count": 39,
   "metadata": {
    "jupyter": {
     "source_hidden": true
    }
   },
   "outputs": [
    {
     "name": "stdout",
     "output_type": "stream",
     "text": [
      "              precision    recall  f1-score   support\n",
      "\n",
      "           0       0.85      0.74      0.79       211\n",
      "           1       0.77      0.87      0.81       205\n",
      "\n",
      "    accuracy                           0.81       416\n",
      "   macro avg       0.81      0.81      0.80       416\n",
      "weighted avg       0.81      0.81      0.80       416\n",
      "\n"
     ]
    }
   ],
   "source": [
    "print(classification_report(y_test, y_pred_tuned))"
   ]
  },
  {
   "cell_type": "code",
   "execution_count": 40,
   "metadata": {
    "jupyter": {
     "source_hidden": true
    }
   },
   "outputs": [
    {
     "name": "stdout",
     "output_type": "stream",
     "text": [
      "[[157  54]\n",
      " [ 27 178]]\n"
     ]
    }
   ],
   "source": [
    "print(confusion_matrix(y_test, y_pred_tuned))"
   ]
  },
  {
   "cell_type": "code",
   "execution_count": 41,
   "metadata": {
    "jupyter": {
     "source_hidden": true
    }
   },
   "outputs": [],
   "source": [
    "logreg_recall = recall_score(y_test, y_pred_logreg )\n",
    "logreg_accuracy = accuracy_score(y_test, y_pred_logreg)"
   ]
  },
  {
   "cell_type": "code",
   "execution_count": 42,
   "metadata": {
    "jupyter": {
     "source_hidden": true
    }
   },
   "outputs": [
    {
     "data": {
      "text/plain": [
       "Gender                                                 -0.903035\n",
       "Neuroticism                                             0.076894\n",
       "Extraversion                                           -0.384589\n",
       "Openness                                                0.682949\n",
       "Agreeableness                                          -0.073958\n",
       "Conscientiousness                                      -0.173576\n",
       "Impulsiveness                                           0.133288\n",
       "Sensation_Seeking                                       0.630970\n",
       "Left school at 16 years                                 0.716497\n",
       "Left school at 17 years                                 0.899221\n",
       "Left school at 18 years                                 0.122038\n",
       "Left school before 16 years                             0.521597\n",
       "Masters degree                                         -0.636663\n",
       "Professional certificate/ diploma                      -0.069535\n",
       "Some college or university, no certificate or degree    0.892698\n",
       "University degree                                      -0.352881\n",
       "25-34                                                  -0.701281\n",
       "35-44                                                  -1.192106\n",
       "45-54                                                  -1.696858\n",
       "55-64                                                  -1.845220\n",
       "dtype: float64"
      ]
     },
     "execution_count": 42,
     "metadata": {},
     "output_type": "execute_result"
    }
   ],
   "source": [
    "coefficients = pd.Series(LogReg.coef_[0], X_train.columns)\n",
    "coefficients"
   ]
  },
  {
   "cell_type": "markdown",
   "metadata": {},
   "source": [
    "## Decision Tree"
   ]
  },
  {
   "cell_type": "code",
   "execution_count": 43,
   "metadata": {
    "jupyter": {
     "source_hidden": true
    }
   },
   "outputs": [
    {
     "data": {
      "text/plain": [
       "DecisionTreeClassifier(max_depth=7, min_samples_leaf=5)"
      ]
     },
     "execution_count": 43,
     "metadata": {},
     "output_type": "execute_result"
    }
   ],
   "source": [
    "# Creating the classifier object \n",
    "clf_gini = DecisionTreeClassifier(criterion = \"gini\", \n",
    "            max_depth=7, min_samples_leaf=5) \n",
    "\n",
    "# Performing training \n",
    "clf_gini.fit(X_train, y_train) "
   ]
  },
  {
   "cell_type": "code",
   "execution_count": 44,
   "metadata": {
    "jupyter": {
     "source_hidden": true
    }
   },
   "outputs": [],
   "source": [
    "y_pred_dt = clf_gini.predict(X_test) "
   ]
  },
  {
   "cell_type": "code",
   "execution_count": 45,
   "metadata": {
    "jupyter": {
     "source_hidden": true
    }
   },
   "outputs": [
    {
     "name": "stdout",
     "output_type": "stream",
     "text": [
      "              precision    recall  f1-score   support\n",
      "\n",
      "           0       0.77      0.79      0.78       211\n",
      "           1       0.78      0.76      0.77       205\n",
      "\n",
      "    accuracy                           0.77       416\n",
      "   macro avg       0.77      0.77      0.77       416\n",
      "weighted avg       0.77      0.77      0.77       416\n",
      "\n"
     ]
    }
   ],
   "source": [
    "print(classification_report(y_test, y_pred_dt))"
   ]
  },
  {
   "cell_type": "code",
   "execution_count": 46,
   "metadata": {
    "jupyter": {
     "source_hidden": true
    }
   },
   "outputs": [
    {
     "data": {
      "image/png": "[encoded data removed]",
      "text/plain": [
       "<Figure size 432x288 with 2 Axes>"
      ]
     },
     "metadata": {
      "needs_background": "light"
     },
     "output_type": "display_data"
    }
   ],
   "source": [
    "disp = plot_confusion_matrix(clf_gini, X_test, y_test,\n",
    "                             display_labels=['negative', 'positive'],\n",
    "                             cmap=plt.cm.Blues, \n",
    "                             normalize=None,\n",
    "                             values_format = 'd')\n",
    "\n",
    "plt.grid(False)\n",
    "plt.show()"
   ]
  },
  {
   "cell_type": "code",
   "execution_count": 47,
   "metadata": {
    "jupyter": {
     "source_hidden": true
    }
   },
   "outputs": [],
   "source": [
    "dt_recall = recall_score(y_test, y_pred_dt)\n",
    "dt_accuracy = accuracy_score(y_test, y_pred_dt)"
   ]
  },
  {
   "cell_type": "markdown",
   "metadata": {},
   "source": [
    "***Change the threshold to 0.4***"
   ]
  },
  {
   "cell_type": "code",
   "execution_count": 48,
   "metadata": {
    "jupyter": {
     "source_hidden": true
    }
   },
   "outputs": [
    {
     "name": "stdout",
     "output_type": "stream",
     "text": [
      "              precision    recall  f1-score   support\n",
      "\n",
      "           0       0.80      0.73      0.77       211\n",
      "           1       0.75      0.81      0.78       205\n",
      "\n",
      "    accuracy                           0.77       416\n",
      "   macro avg       0.77      0.77      0.77       416\n",
      "weighted avg       0.77      0.77      0.77       416\n",
      "\n"
     ]
    }
   ],
   "source": [
    "y_pred_tuned = (clf_gini.predict_proba(X_test) >= 0.4)[:,1]\n",
    "print(classification_report(y_test, y_pred_tuned))"
   ]
  },
  {
   "cell_type": "code",
   "execution_count": 49,
   "metadata": {},
   "outputs": [
    {
     "name": "stdout",
     "output_type": "stream",
     "text": [
      "[[155  56]\n",
      " [ 39 166]]\n"
     ]
    }
   ],
   "source": [
    "print(confusion_matrix(y_test, y_pred_tuned))"
   ]
  },
  {
   "cell_type": "code",
   "execution_count": 50,
   "metadata": {},
   "outputs": [
    {
     "data": {
      "text/html": [
       "<div>\n",
       "<style scoped>\n",
       "    .dataframe tbody tr th:only-of-type {\n",
       "        vertical-align: middle;\n",
       "    }\n",
       "\n",
       "    .dataframe tbody tr th {\n",
       "        vertical-align: top;\n",
       "    }\n",
       "\n",
       "    .dataframe thead th {\n",
       "        text-align: right;\n",
       "    }\n",
       "</style>\n",
       "<table border=\"1\" class=\"dataframe\">\n",
       "  <thead>\n",
       "    <tr style=\"text-align: right;\">\n",
       "      <th></th>\n",
       "      <th>feature</th>\n",
       "      <th>importance</th>\n",
       "    </tr>\n",
       "  </thead>\n",
       "  <tbody>\n",
       "    <tr>\n",
       "      <th>7</th>\n",
       "      <td>Sensation_Seeking</td>\n",
       "      <td>0.387699</td>\n",
       "    </tr>\n",
       "    <tr>\n",
       "      <th>14</th>\n",
       "      <td>Some college or university, no certificate or ...</td>\n",
       "      <td>0.143862</td>\n",
       "    </tr>\n",
       "    <tr>\n",
       "      <th>5</th>\n",
       "      <td>Conscientiousness</td>\n",
       "      <td>0.103109</td>\n",
       "    </tr>\n",
       "    <tr>\n",
       "      <th>3</th>\n",
       "      <td>Openness</td>\n",
       "      <td>0.092654</td>\n",
       "    </tr>\n",
       "    <tr>\n",
       "      <th>1</th>\n",
       "      <td>Neuroticism</td>\n",
       "      <td>0.084017</td>\n",
       "    </tr>\n",
       "    <tr>\n",
       "      <th>0</th>\n",
       "      <td>Gender</td>\n",
       "      <td>0.056520</td>\n",
       "    </tr>\n",
       "    <tr>\n",
       "      <th>4</th>\n",
       "      <td>Agreeableness</td>\n",
       "      <td>0.032734</td>\n",
       "    </tr>\n",
       "    <tr>\n",
       "      <th>2</th>\n",
       "      <td>Extraversion</td>\n",
       "      <td>0.022144</td>\n",
       "    </tr>\n",
       "  </tbody>\n",
       "</table>\n",
       "</div>"
      ],
      "text/plain": [
       "                                              feature  importance\n",
       "7                                   Sensation_Seeking    0.387699\n",
       "14  Some college or university, no certificate or ...    0.143862\n",
       "5                                   Conscientiousness    0.103109\n",
       "3                                            Openness    0.092654\n",
       "1                                         Neuroticism    0.084017\n",
       "0                                              Gender    0.056520\n",
       "4                                       Agreeableness    0.032734\n",
       "2                                        Extraversion    0.022144"
      ]
     },
     "execution_count": 50,
     "metadata": {},
     "output_type": "execute_result"
    }
   ],
   "source": [
    "features = ['Gender', 'Neuroticism', 'Extraversion', 'Openness', 'Agreeableness',\n",
    "       'Conscientiousness', 'Impulsiveness', 'Sensation_Seeking',\n",
    "        'Left school at 16 years', 'Left school at 17 years',\n",
    "       'Left school at 18 years', 'Left school before 16 years',\n",
    "       'Masters degree', 'Professional certificate/ diploma',\n",
    "       'Some college or university, no certificate or degree',\n",
    "       'University degree', '25-34', '35-44', '45-54', '55-64']\n",
    "\n",
    "fi_model = pd.DataFrame({'feature': features,\n",
    "                   'importance': clf_gini.feature_importances_}).\\\n",
    "                    sort_values('importance', ascending = False)\n",
    "fi_model.head(8)"
   ]
  },
  {
   "cell_type": "markdown",
   "metadata": {},
   "source": [
    "## KNN"
   ]
  },
  {
   "cell_type": "code",
   "execution_count": 51,
   "metadata": {
    "jupyter": {
     "source_hidden": true
    }
   },
   "outputs": [
    {
     "data": {
      "text/plain": [
       "KNeighborsClassifier(metric='euclidean')"
      ]
     },
     "execution_count": 51,
     "metadata": {},
     "output_type": "execute_result"
    }
   ],
   "source": [
    "knn = KNeighborsClassifier(n_neighbors=5, metric='euclidean')\n",
    "knn.fit(X_train, np.ravel(y_train))"
   ]
  },
  {
   "cell_type": "code",
   "execution_count": 52,
   "metadata": {
    "jupyter": {
     "source_hidden": true
    }
   },
   "outputs": [],
   "source": [
    "y_pred_knn = knn.predict(X_test)"
   ]
  },
  {
   "cell_type": "code",
   "execution_count": 53,
   "metadata": {
    "jupyter": {
     "source_hidden": true
    }
   },
   "outputs": [
    {
     "name": "stdout",
     "output_type": "stream",
     "text": [
      "              precision    recall  f1-score   support\n",
      "\n",
      "           0       0.76      0.74      0.75       211\n",
      "           1       0.74      0.76      0.75       205\n",
      "\n",
      "    accuracy                           0.75       416\n",
      "   macro avg       0.75      0.75      0.75       416\n",
      "weighted avg       0.75      0.75      0.75       416\n",
      "\n"
     ]
    }
   ],
   "source": [
    "print(classification_report(y_test, y_pred_knn))"
   ]
  },
  {
   "cell_type": "code",
   "execution_count": 54,
   "metadata": {},
   "outputs": [
    {
     "data": {
      "image/png": "[encoded data removed]",
      "text/plain": [
       "<Figure size 432x288 with 2 Axes>"
      ]
     },
     "metadata": {
      "needs_background": "light"
     },
     "output_type": "display_data"
    }
   ],
   "source": [
    "disp = plot_confusion_matrix(knn, X_test, y_test,\n",
    "                             display_labels=['negative', 'positive'],\n",
    "                             cmap=plt.cm.Blues, \n",
    "                             normalize=None,\n",
    "                             values_format = 'd')\n",
    "\n",
    "plt.grid(False)\n",
    "plt.show()"
   ]
  },
  {
   "cell_type": "code",
   "execution_count": 55,
   "metadata": {
    "jupyter": {
     "source_hidden": true
    }
   },
   "outputs": [],
   "source": [
    "knn_recall = recall_score(y_test, y_pred_knn)\n",
    "knn_accuracy = accuracy_score(y_test, y_pred_knn)"
   ]
  },
  {
   "cell_type": "markdown",
   "metadata": {},
   "source": [
    "***Change the threshold to 0.4***"
   ]
  },
  {
   "cell_type": "code",
   "execution_count": 56,
   "metadata": {
    "jupyter": {
     "source_hidden": true
    }
   },
   "outputs": [
    {
     "name": "stdout",
     "output_type": "stream",
     "text": [
      "              precision    recall  f1-score   support\n",
      "\n",
      "           0       0.84      0.56      0.67       211\n",
      "           1       0.66      0.89      0.76       205\n",
      "\n",
      "    accuracy                           0.72       416\n",
      "   macro avg       0.75      0.73      0.72       416\n",
      "weighted avg       0.75      0.72      0.72       416\n",
      "\n"
     ]
    }
   ],
   "source": [
    "y_pred_tuned = (knn.predict_proba(X_test) >= 0.4)[:,1]\n",
    "print(classification_report(y_test, y_pred_tuned))"
   ]
  },
  {
   "cell_type": "markdown",
   "metadata": {},
   "source": [
    "## SVM"
   ]
  },
  {
   "cell_type": "code",
   "execution_count": 57,
   "metadata": {
    "jupyter": {
     "source_hidden": true
    }
   },
   "outputs": [],
   "source": [
    "svm_clf = svm.SVC(kernel='linear')\n",
    "\n",
    "svm_clf.fit(X_train, y_train)\n",
    "y_pred_svm = svm_clf.predict(X_test)"
   ]
  },
  {
   "cell_type": "code",
   "execution_count": 58,
   "metadata": {
    "jupyter": {
     "source_hidden": true
    }
   },
   "outputs": [],
   "source": [
    "svm_recall = recall_score(y_test, y_pred_svm)\n",
    "svm_accuracy = accuracy_score(y_test, y_pred_svm)"
   ]
  },
  {
   "cell_type": "code",
   "execution_count": 59,
   "metadata": {
    "jupyter": {
     "source_hidden": true
    }
   },
   "outputs": [
    {
     "name": "stdout",
     "output_type": "stream",
     "text": [
      "              precision    recall  f1-score   support\n",
      "\n",
      "           0       0.79      0.87      0.83       211\n",
      "           1       0.85      0.77      0.81       205\n",
      "\n",
      "    accuracy                           0.82       416\n",
      "   macro avg       0.82      0.82      0.82       416\n",
      "weighted avg       0.82      0.82      0.82       416\n",
      "\n"
     ]
    }
   ],
   "source": [
    "print(classification_report(y_test, y_pred_svm))"
   ]
  },
  {
   "cell_type": "markdown",
   "metadata": {},
   "source": [
    "## Random Forest "
   ]
  },
  {
   "cell_type": "code",
   "execution_count": 60,
   "metadata": {
    "jupyter": {
     "source_hidden": true
    }
   },
   "outputs": [],
   "source": [
    "# Create the model with 100 trees\n",
    "rf = RandomForestClassifier(n_estimators=100, \n",
    "                               random_state=50, \n",
    "                               max_features = 'sqrt',\n",
    "                               n_jobs=-1, verbose = 1)"
   ]
  },
  {
   "cell_type": "code",
   "execution_count": 61,
   "metadata": {
    "jupyter": {
     "source_hidden": true
    }
   },
   "outputs": [
    {
     "name": "stderr",
     "output_type": "stream",
     "text": [
      "[Parallel(n_jobs=-1)]: Using backend ThreadingBackend with 8 concurrent workers.\n",
      "[Parallel(n_jobs=-1)]: Done  34 tasks      | elapsed:    0.1s\n",
      "[Parallel(n_jobs=-1)]: Done 100 out of 100 | elapsed:    0.1s finished\n"
     ]
    },
    {
     "data": {
      "text/plain": [
       "RandomForestClassifier(max_features='sqrt', n_jobs=-1, random_state=50,\n",
       "                       verbose=1)"
      ]
     },
     "execution_count": 61,
     "metadata": {},
     "output_type": "execute_result"
    }
   ],
   "source": [
    "rf.fit(X_train, y_train)"
   ]
  },
  {
   "cell_type": "code",
   "execution_count": 62,
   "metadata": {
    "jupyter": {
     "source_hidden": true
    }
   },
   "outputs": [
    {
     "name": "stderr",
     "output_type": "stream",
     "text": [
      "[Parallel(n_jobs=8)]: Using backend ThreadingBackend with 8 concurrent workers.\n",
      "[Parallel(n_jobs=8)]: Done  34 tasks      | elapsed:    0.0s\n",
      "[Parallel(n_jobs=8)]: Done 100 out of 100 | elapsed:    0.0s finished\n",
      "[Parallel(n_jobs=8)]: Using backend ThreadingBackend with 8 concurrent workers.\n",
      "[Parallel(n_jobs=8)]: Done  34 tasks      | elapsed:    0.0s\n",
      "[Parallel(n_jobs=8)]: Done 100 out of 100 | elapsed:    0.0s finished\n"
     ]
    }
   ],
   "source": [
    "rf_predictions = rf.predict(X_test)\n",
    "rf_probs = rf.predict_proba(X_test)[:, 1]"
   ]
  },
  {
   "cell_type": "code",
   "execution_count": 63,
   "metadata": {
    "jupyter": {
     "source_hidden": true
    }
   },
   "outputs": [
    {
     "name": "stdout",
     "output_type": "stream",
     "text": [
      "              precision    recall  f1-score   support\n",
      "\n",
      "           0       0.86      0.87      0.86       211\n",
      "           1       0.86      0.85      0.86       205\n",
      "\n",
      "    accuracy                           0.86       416\n",
      "   macro avg       0.86      0.86      0.86       416\n",
      "weighted avg       0.86      0.86      0.86       416\n",
      "\n"
     ]
    }
   ],
   "source": [
    "print(classification_report(y_test, rf_predictions))"
   ]
  },
  {
   "cell_type": "code",
   "execution_count": 64,
   "metadata": {
    "jupyter": {
     "source_hidden": true
    }
   },
   "outputs": [
    {
     "name": "stderr",
     "output_type": "stream",
     "text": [
      "[Parallel(n_jobs=8)]: Using backend ThreadingBackend with 8 concurrent workers.\n",
      "[Parallel(n_jobs=8)]: Done  34 tasks      | elapsed:    0.0s\n",
      "[Parallel(n_jobs=8)]: Done 100 out of 100 | elapsed:    0.0s finished\n"
     ]
    },
    {
     "data": {
      "image/png": "[encoded data removed]",
      "text/plain": [
       "<Figure size 432x288 with 2 Axes>"
      ]
     },
     "metadata": {
      "needs_background": "light"
     },
     "output_type": "display_data"
    }
   ],
   "source": [
    "disp = plot_confusion_matrix(rf, X_test, y_test,\n",
    "                             display_labels=['negative', 'positive'],\n",
    "                             cmap=plt.cm.Blues, \n",
    "                             normalize=None,\n",
    "                             values_format = 'd')\n",
    "\n",
    "plt.grid(False)\n",
    "plt.show()"
   ]
  },
  {
   "cell_type": "code",
   "execution_count": 65,
   "metadata": {
    "jupyter": {
     "source_hidden": true
    }
   },
   "outputs": [],
   "source": [
    "rf_recall = recall_score(y_test, rf_predictions)\n",
    "rf_accuracy = accuracy_score(y_test, rf_predictions)"
   ]
  },
  {
   "cell_type": "code",
   "execution_count": 66,
   "metadata": {
    "jupyter": {
     "source_hidden": true
    }
   },
   "outputs": [
    {
     "data": {
      "text/html": [
       "<div>\n",
       "<style scoped>\n",
       "    .dataframe tbody tr th:only-of-type {\n",
       "        vertical-align: middle;\n",
       "    }\n",
       "\n",
       "    .dataframe tbody tr th {\n",
       "        vertical-align: top;\n",
       "    }\n",
       "\n",
       "    .dataframe thead th {\n",
       "        text-align: right;\n",
       "    }\n",
       "</style>\n",
       "<table border=\"1\" class=\"dataframe\">\n",
       "  <thead>\n",
       "    <tr style=\"text-align: right;\">\n",
       "      <th></th>\n",
       "      <th>feature</th>\n",
       "      <th>importance</th>\n",
       "    </tr>\n",
       "  </thead>\n",
       "  <tbody>\n",
       "    <tr>\n",
       "      <th>7</th>\n",
       "      <td>Sensation_Seeking</td>\n",
       "      <td>0.156771</td>\n",
       "    </tr>\n",
       "    <tr>\n",
       "      <th>3</th>\n",
       "      <td>Openness</td>\n",
       "      <td>0.124621</td>\n",
       "    </tr>\n",
       "    <tr>\n",
       "      <th>5</th>\n",
       "      <td>Conscientiousness</td>\n",
       "      <td>0.108390</td>\n",
       "    </tr>\n",
       "    <tr>\n",
       "      <th>1</th>\n",
       "      <td>Neuroticism</td>\n",
       "      <td>0.099096</td>\n",
       "    </tr>\n",
       "    <tr>\n",
       "      <th>2</th>\n",
       "      <td>Extraversion</td>\n",
       "      <td>0.089357</td>\n",
       "    </tr>\n",
       "    <tr>\n",
       "      <th>6</th>\n",
       "      <td>Impulsiveness</td>\n",
       "      <td>0.079379</td>\n",
       "    </tr>\n",
       "    <tr>\n",
       "      <th>4</th>\n",
       "      <td>Agreeableness</td>\n",
       "      <td>0.078343</td>\n",
       "    </tr>\n",
       "    <tr>\n",
       "      <th>14</th>\n",
       "      <td>Some college or university, no certificate or ...</td>\n",
       "      <td>0.062663</td>\n",
       "    </tr>\n",
       "  </tbody>\n",
       "</table>\n",
       "</div>"
      ],
      "text/plain": [
       "                                              feature  importance\n",
       "7                                   Sensation_Seeking    0.156771\n",
       "3                                            Openness    0.124621\n",
       "5                                   Conscientiousness    0.108390\n",
       "1                                         Neuroticism    0.099096\n",
       "2                                        Extraversion    0.089357\n",
       "6                                       Impulsiveness    0.079379\n",
       "4                                       Agreeableness    0.078343\n",
       "14  Some college or university, no certificate or ...    0.062663"
      ]
     },
     "execution_count": 66,
     "metadata": {},
     "output_type": "execute_result"
    }
   ],
   "source": [
    "rf_features = pd.DataFrame({'feature': features,\n",
    "                   'importance': rf.feature_importances_}).\\\n",
    "                    sort_values('importance', ascending = False)\n",
    "rf_features.head(8)"
   ]
  },
  {
   "cell_type": "markdown",
   "metadata": {},
   "source": [
    "***Change the threshold to 0.4***"
   ]
  },
  {
   "cell_type": "code",
   "execution_count": 67,
   "metadata": {
    "jupyter": {
     "source_hidden": true
    }
   },
   "outputs": [
    {
     "name": "stdout",
     "output_type": "stream",
     "text": [
      "              precision    recall  f1-score   support\n",
      "\n",
      "           0       0.90      0.72      0.80       211\n",
      "           1       0.76      0.92      0.83       205\n",
      "\n",
      "    accuracy                           0.81       416\n",
      "   macro avg       0.83      0.82      0.81       416\n",
      "weighted avg       0.83      0.81      0.81       416\n",
      "\n"
     ]
    },
    {
     "name": "stderr",
     "output_type": "stream",
     "text": [
      "[Parallel(n_jobs=8)]: Using backend ThreadingBackend with 8 concurrent workers.\n",
      "[Parallel(n_jobs=8)]: Done  34 tasks      | elapsed:    0.0s\n",
      "[Parallel(n_jobs=8)]: Done 100 out of 100 | elapsed:    0.0s finished\n"
     ]
    }
   ],
   "source": [
    "y_pred_tuned = (rf.predict_proba(X_test) >= 0.4)[:,1]\n",
    "print(classification_report(y_test, y_pred_tuned))"
   ]
  },
  {
   "cell_type": "markdown",
   "metadata": {},
   "source": [
    "***Hyperparameter Tuning***"
   ]
  },
  {
   "cell_type": "code",
   "execution_count": 68,
   "metadata": {},
   "outputs": [
    {
     "data": {
      "text/plain": [
       "\"# Hyperparameter grid\\nRSEED = 50\\n\\nparam_grid = {\\n    'n_estimators': np.linspace(10, 200).astype(int),\\n    'max_depth': [None] + list(np.linspace(3, 20).astype(int)),\\n    'max_features': ['auto', 'sqrt', None] + list(np.arange(0.5, 1, 0.1)),\\n    'max_leaf_nodes': [None] + list(np.linspace(10, 50, 500).astype(int)),\\n    'min_samples_split': [2, 5, 10],\\n    'bootstrap': [True, False]\\n}\\n\\n# Estimator for use in random search\\nestimator = RandomForestClassifier(random_state = RSEED)\\n\\n# Create the random search model\\nrs = RandomizedSearchCV(estimator, param_grid, n_jobs = -1, \\n                        scoring = 'roc_auc', cv = 3, \\n                        n_iter = 10, verbose = 5, random_state=RSEED)\\n\\n# Fit \\nrs.fit(X_train, y_train)\""
      ]
     },
     "execution_count": 68,
     "metadata": {},
     "output_type": "execute_result"
    }
   ],
   "source": [
    "'''# Hyperparameter grid\n",
    "RSEED = 50\n",
    "\n",
    "param_grid = {\n",
    "    'n_estimators': np.linspace(10, 200).astype(int),\n",
    "    'max_depth': [None] + list(np.linspace(3, 20).astype(int)),\n",
    "    'max_features': ['auto', 'sqrt', None] + list(np.arange(0.5, 1, 0.1)),\n",
    "    'max_leaf_nodes': [None] + list(np.linspace(10, 50, 500).astype(int)),\n",
    "    'min_samples_split': [2, 5, 10],\n",
    "    'bootstrap': [True, False]\n",
    "}\n",
    "\n",
    "# Estimator for use in random search\n",
    "estimator = RandomForestClassifier(random_state = RSEED)\n",
    "\n",
    "# Create the random search model\n",
    "rs = RandomizedSearchCV(estimator, param_grid, n_jobs = -1, \n",
    "                        scoring = 'roc_auc', cv = 3, \n",
    "                        n_iter = 10, verbose = 5, random_state=RSEED)\n",
    "\n",
    "# Fit \n",
    "rs.fit(X_train, y_train)'''"
   ]
  },
  {
   "cell_type": "code",
   "execution_count": 69,
   "metadata": {},
   "outputs": [
    {
     "data": {
      "text/plain": [
       "'best_model_rf = rs.best_estimator_\\n\\nbest_model_rf.fit(X_train, y_train)\\nbest_rf_predictions = best_model_rf.predict(X_test)\\nbest_rf_probs = best_model_rf.predict_proba(X_test)[:, 1]'"
      ]
     },
     "execution_count": 69,
     "metadata": {},
     "output_type": "execute_result"
    }
   ],
   "source": [
    "'''best_model_rf = rs.best_estimator_\n",
    "\n",
    "best_model_rf.fit(X_train, y_train)\n",
    "best_rf_predictions = best_model_rf.predict(X_test)\n",
    "best_rf_probs = best_model_rf.predict_proba(X_test)[:, 1]'''"
   ]
  },
  {
   "cell_type": "code",
   "execution_count": 70,
   "metadata": {},
   "outputs": [],
   "source": [
    "#print(classification_report(y_test, best_rf_predictions))"
   ]
  },
  {
   "cell_type": "markdown",
   "metadata": {},
   "source": [
    "## XGBoost"
   ]
  },
  {
   "cell_type": "code",
   "execution_count": 71,
   "metadata": {},
   "outputs": [],
   "source": [
    "xbg = XGBClassifier()\n",
    "xbg.fit(X_train, y_train)\n",
    "\n",
    "y_pred_xgb = xbg.predict(X_test)\n",
    "predictions = [round(value) for value in y_pred_xgb]"
   ]
  },
  {
   "cell_type": "code",
   "execution_count": 72,
   "metadata": {},
   "outputs": [
    {
     "name": "stdout",
     "output_type": "stream",
     "text": [
      "              precision    recall  f1-score   support\n",
      "\n",
      "           0       0.83      0.80      0.82       211\n",
      "           1       0.80      0.83      0.82       205\n",
      "\n",
      "    accuracy                           0.82       416\n",
      "   macro avg       0.82      0.82      0.82       416\n",
      "weighted avg       0.82      0.82      0.82       416\n",
      "\n"
     ]
    }
   ],
   "source": [
    "print(classification_report(y_test, y_pred_xgb))\n",
    "xgb_recall = recall_score(y_test, y_pred_xgb)\n",
    "xgb_accuracy = accuracy_score(y_test, y_pred_xgb)"
   ]
  },
  {
   "cell_type": "code",
   "execution_count": 73,
   "metadata": {},
   "outputs": [
    {
     "data": {
      "image/png": "[encoded data removed]",
      "text/plain": [
       "<Figure size 432x288 with 2 Axes>"
      ]
     },
     "metadata": {
      "needs_background": "light"
     },
     "output_type": "display_data"
    }
   ],
   "source": [
    "disp = plot_confusion_matrix(xbg, X_test, y_test,\n",
    "                             display_labels=['negative', 'positive'],\n",
    "                             cmap=plt.cm.Blues, \n",
    "                             normalize=None,\n",
    "                             values_format = 'd')\n",
    "\n",
    "plt.grid(False)\n",
    "plt.show()"
   ]
  },
  {
   "cell_type": "code",
   "execution_count": 74,
   "metadata": {},
   "outputs": [
    {
     "data": {
      "text/html": [
       "<div>\n",
       "<style scoped>\n",
       "    .dataframe tbody tr th:only-of-type {\n",
       "        vertical-align: middle;\n",
       "    }\n",
       "\n",
       "    .dataframe tbody tr th {\n",
       "        vertical-align: top;\n",
       "    }\n",
       "\n",
       "    .dataframe thead th {\n",
       "        text-align: right;\n",
       "    }\n",
       "</style>\n",
       "<table border=\"1\" class=\"dataframe\">\n",
       "  <thead>\n",
       "    <tr style=\"text-align: right;\">\n",
       "      <th></th>\n",
       "      <th>feature</th>\n",
       "      <th>importance</th>\n",
       "    </tr>\n",
       "  </thead>\n",
       "  <tbody>\n",
       "    <tr>\n",
       "      <th>14</th>\n",
       "      <td>Some college or university, no certificate or ...</td>\n",
       "      <td>0.226608</td>\n",
       "    </tr>\n",
       "    <tr>\n",
       "      <th>7</th>\n",
       "      <td>Sensation_Seeking</td>\n",
       "      <td>0.106115</td>\n",
       "    </tr>\n",
       "    <tr>\n",
       "      <th>0</th>\n",
       "      <td>Gender</td>\n",
       "      <td>0.069791</td>\n",
       "    </tr>\n",
       "    <tr>\n",
       "      <th>18</th>\n",
       "      <td>45-54</td>\n",
       "      <td>0.059341</td>\n",
       "    </tr>\n",
       "    <tr>\n",
       "      <th>17</th>\n",
       "      <td>35-44</td>\n",
       "      <td>0.051788</td>\n",
       "    </tr>\n",
       "    <tr>\n",
       "      <th>12</th>\n",
       "      <td>Masters degree</td>\n",
       "      <td>0.050881</td>\n",
       "    </tr>\n",
       "    <tr>\n",
       "      <th>19</th>\n",
       "      <td>55-64</td>\n",
       "      <td>0.042921</td>\n",
       "    </tr>\n",
       "    <tr>\n",
       "      <th>3</th>\n",
       "      <td>Openness</td>\n",
       "      <td>0.039024</td>\n",
       "    </tr>\n",
       "  </tbody>\n",
       "</table>\n",
       "</div>"
      ],
      "text/plain": [
       "                                              feature  importance\n",
       "14  Some college or university, no certificate or ...    0.226608\n",
       "7                                   Sensation_Seeking    0.106115\n",
       "0                                              Gender    0.069791\n",
       "18                                              45-54    0.059341\n",
       "17                                              35-44    0.051788\n",
       "12                                     Masters degree    0.050881\n",
       "19                                              55-64    0.042921\n",
       "3                                            Openness    0.039024"
      ]
     },
     "execution_count": 74,
     "metadata": {},
     "output_type": "execute_result"
    }
   ],
   "source": [
    "xgb_features = pd.DataFrame({'feature': features,\n",
    "                   'importance': xbg.feature_importances_}).\\\n",
    "                    sort_values('importance', ascending = False)\n",
    "xgb_features.head(8)"
   ]
  },
  {
   "cell_type": "markdown",
   "metadata": {},
   "source": [
    "***Change the threshold to 0.4***"
   ]
  },
  {
   "cell_type": "code",
   "execution_count": 75,
   "metadata": {
    "jupyter": {
     "source_hidden": true
    }
   },
   "outputs": [
    {
     "name": "stdout",
     "output_type": "stream",
     "text": [
      "              precision    recall  f1-score   support\n",
      "\n",
      "           0       0.87      0.76      0.81       211\n",
      "           1       0.78      0.88      0.83       205\n",
      "\n",
      "    accuracy                           0.82       416\n",
      "   macro avg       0.82      0.82      0.82       416\n",
      "weighted avg       0.83      0.82      0.82       416\n",
      "\n"
     ]
    }
   ],
   "source": [
    "y_pred_tuned = (xbg.predict_proba(X_test) >= 0.4)[:,1]\n",
    "print(classification_report(y_test, y_pred_tuned))"
   ]
  },
  {
   "cell_type": "markdown",
   "metadata": {},
   "source": [
    "***Hyperparameter Tuning***"
   ]
  },
  {
   "cell_type": "code",
   "execution_count": 76,
   "metadata": {
    "jupyter": {
     "source_hidden": true
    }
   },
   "outputs": [
    {
     "data": {
      "text/plain": [
       "'model = XGBClassifier()\\n\\nparameters = {\\n        \\'min_child_weight\\': [1, 5, 10],\\n        \\'gamma\\': [0.5, 1, 1.5, 2, 5],\\n        \\'subsample\\': [0.6, 0.8, 1.0],\\n        \\'colsample_bytree\\': [0.6, 0.8, 1.0],\\n        \\'max_depth\\': [3, 4, 5]\\n        }\\n\\nkfold = KFold(n_splits=5, shuffle=True, random_state=10)\\ngrid_search = RandomizedSearchCV(model, parameters, scoring=\"recall\", n_iter = 500, cv=kfold)\\ngrid_result = grid_search.fit(X_train,y_train)'"
      ]
     },
     "execution_count": 76,
     "metadata": {},
     "output_type": "execute_result"
    }
   ],
   "source": [
    "'''model = XGBClassifier()\n",
    "\n",
    "parameters = {\n",
    "        'min_child_weight': [1, 5, 10],\n",
    "        'gamma': [0.5, 1, 1.5, 2, 5],\n",
    "        'subsample': [0.6, 0.8, 1.0],\n",
    "        'colsample_bytree': [0.6, 0.8, 1.0],\n",
    "        'max_depth': [3, 4, 5]\n",
    "        }\n",
    "\n",
    "kfold = KFold(n_splits=5, shuffle=True, random_state=10)\n",
    "grid_search = RandomizedSearchCV(model, parameters, scoring=\"recall\", n_iter = 500, cv=kfold)\n",
    "grid_result = grid_search.fit(X_train,y_train)'''"
   ]
  },
  {
   "cell_type": "code",
   "execution_count": 77,
   "metadata": {
    "jupyter": {
     "source_hidden": true
    }
   },
   "outputs": [],
   "source": [
    "#best_model_xgb = grid_result.best_estimator_"
   ]
  },
  {
   "cell_type": "code",
   "execution_count": 78,
   "metadata": {
    "jupyter": {
     "source_hidden": true
    }
   },
   "outputs": [
    {
     "data": {
      "text/plain": [
       "'best_model_xgb.fit(X_train, y_train)\\nbest_xgb_predictions = best_model_xgb.predict(X_test)\\nbest_xgb_probs = best_model_xgb.predict_proba(X_test)[:, 1]'"
      ]
     },
     "execution_count": 78,
     "metadata": {},
     "output_type": "execute_result"
    }
   ],
   "source": [
    "'''best_model_xgb.fit(X_train, y_train)\n",
    "best_xgb_predictions = best_model_xgb.predict(X_test)\n",
    "best_xgb_probs = best_model_xgb.predict_proba(X_test)[:, 1]'''"
   ]
  },
  {
   "cell_type": "code",
   "execution_count": 79,
   "metadata": {
    "jupyter": {
     "source_hidden": true
    }
   },
   "outputs": [
    {
     "data": {
      "text/plain": [
       "'best_xgb_recall = recall_score(y_test, best_xgb_predictions)\\nbest_xgb_accuracy = accuracy_score(y_test, best_xgb_predictions)'"
      ]
     },
     "execution_count": 79,
     "metadata": {},
     "output_type": "execute_result"
    }
   ],
   "source": [
    "'''best_xgb_recall = recall_score(y_test, best_xgb_predictions)\n",
    "best_xgb_accuracy = accuracy_score(y_test, best_xgb_predictions)'''"
   ]
  },
  {
   "cell_type": "code",
   "execution_count": 80,
   "metadata": {
    "jupyter": {
     "source_hidden": true
    }
   },
   "outputs": [],
   "source": [
    "#print(classification_report(y_test, best_xgb_predictions))"
   ]
  },
  {
   "cell_type": "code",
   "execution_count": 81,
   "metadata": {
    "jupyter": {
     "source_hidden": true
    }
   },
   "outputs": [
    {
     "data": {
      "text/plain": [
       "\"disp = plot_confusion_matrix(best_model_xgb, X_test, y_test,\\n                             display_labels=['negative', 'positive'],\\n                             cmap=plt.cm.Blues, \\n                             normalize=None,\\n                             values_format = 'd')\\n\\nplt.grid(False)\\nplt.show()\""
      ]
     },
     "execution_count": 81,
     "metadata": {},
     "output_type": "execute_result"
    }
   ],
   "source": [
    "'''disp = plot_confusion_matrix(best_model_xgb, X_test, y_test,\n",
    "                             display_labels=['negative', 'positive'],\n",
    "                             cmap=plt.cm.Blues, \n",
    "                             normalize=None,\n",
    "                             values_format = 'd')\n",
    "\n",
    "plt.grid(False)\n",
    "plt.show()'''"
   ]
  },
  {
   "cell_type": "markdown",
   "metadata": {},
   "source": [
    "### Plot of the most important features"
   ]
  },
  {
   "cell_type": "code",
   "execution_count": 82,
   "metadata": {
    "jupyter": {
     "source_hidden": true
    }
   },
   "outputs": [],
   "source": [
    "def feature_plot(importances, X_train, y_train, title):\n",
    "    \n",
    "    # Display the five most important features\n",
    "    indices = np.argsort(importances)[::-1]\n",
    "    columns = X_train.columns.values[indices[:5]]\n",
    "    values = importances[indices][:5]\n",
    "\n",
    "    # Creat the plot\n",
    "    fig = plt.figure(figsize = (9,7))\n",
    "    plt.title(title, fontsize = 16)\n",
    "    plt.bar(np.arange(5), values, width = 0.6, align=\"center\", color = '#00A000', \\\n",
    "          label = \"Feature Weight\")\n",
    "    plt.bar(np.arange(5) - 0.3, np.cumsum(values), width = 0.2, align = \"center\", color = '#00A0A0', \\\n",
    "          label = \"Cumulative Feature Weight\")\n",
    "    plt.xticks(np.arange(5), columns)\n",
    "    plt.xlim((-0.5, 4.5))\n",
    "    plt.ylabel(\"Weight\", fontsize = 12)\n",
    "    plt.xlabel(\"Feature\", fontsize = 12)\n",
    "    \n",
    "    plt.legend(loc = 'upper center')\n",
    "    plt.tight_layout()\n",
    "    plt.show()  "
   ]
  },
  {
   "cell_type": "code",
   "execution_count": 83,
   "metadata": {},
   "outputs": [],
   "source": [
    "xgb_model = xbg.fit(X_train, y_train)\n",
    "\n",
    "importances_xgb = xgb_model.feature_importances_"
   ]
  },
  {
   "cell_type": "code",
   "execution_count": 84,
   "metadata": {},
   "outputs": [
    {
     "data": {
      "image/png": "[encoded data removed]",
      "text/plain": [
       "<Figure size 648x504 with 1 Axes>"
      ]
     },
     "metadata": {
      "needs_background": "light"
     },
     "output_type": "display_data"
    }
   ],
   "source": [
    "feature_plot(importances_xgb, X_train, y_train, title=\"Normalized Weights for First Five Most Predictive Features\\n\\n XGBoost\")"
   ]
  },
  {
   "cell_type": "code",
   "execution_count": 85,
   "metadata": {},
   "outputs": [
    {
     "name": "stderr",
     "output_type": "stream",
     "text": [
      "[Parallel(n_jobs=-1)]: Using backend ThreadingBackend with 8 concurrent workers.\n",
      "[Parallel(n_jobs=-1)]: Done  34 tasks      | elapsed:    0.2s\n",
      "[Parallel(n_jobs=-1)]: Done 100 out of 100 | elapsed:    0.2s finished\n"
     ]
    }
   ],
   "source": [
    "rf_model = rf.fit(X_train, y_train)\n",
    "\n",
    "importances_rf = rf_model.feature_importances_"
   ]
  },
  {
   "cell_type": "code",
   "execution_count": 86,
   "metadata": {},
   "outputs": [
    {
     "data": {
      "image/png": "[encoded data removed]",
      "text/plain": [
       "<Figure size 648x504 with 1 Axes>"
      ]
     },
     "metadata": {
      "needs_background": "light"
     },
     "output_type": "display_data"
    }
   ],
   "source": [
    "feature_plot(importances_rf, X_train, y_train, title=\"Normalized Weights for First Five Most Predictive Features\\n\\n Random Forest\")"
   ]
  },
  {
   "cell_type": "markdown",
   "metadata": {},
   "source": [
    "## Comparison of the models"
   ]
  },
  {
   "cell_type": "code",
   "execution_count": 87,
   "metadata": {
    "jupyter": {
     "source_hidden": true
    }
   },
   "outputs": [
    {
     "name": "stdout",
     "output_type": "stream",
     "text": [
      "LogReg Recall:\t0.7951219512195122\n",
      "LogReg Accuracy:\t0.8221153846153846\n",
      "----------------------------\n",
      "Decision Tree Recall:\t0.7609756097560976\n",
      "Decision Tree Accuracy:\t0.7740384615384616\n",
      "----------------------------\n",
      "SVM Recall:\t0.7658536585365854\n",
      "SVM Accuracy:\t0.8173076923076923\n",
      "----------------------------\n",
      "KNN Recall\t:0.7560975609756098\n",
      "KNN Accuracy:\t0.7475961538461539\n",
      "----------------------------\n",
      "SVM Recall:\t0.7658536585365854\n",
      "SVM Accuracy:\t0.8173076923076923\n",
      "----------------------------\n",
      "Random Forest Recall:\t0.8536585365853658\n",
      "Random Forest Accuracy:\t0.8605769230769231\n",
      "----------------------------\n",
      "XGB Recall:\t0.8341463414634146\n",
      "XGB Accuracy:\t0.8173076923076923\n"
     ]
    }
   ],
   "source": [
    "print(f\"LogReg Recall:\\t{logreg_recall}\")\n",
    "print(f\"LogReg Accuracy:\\t{logreg_accuracy}\")\n",
    "print(\"----------------------------\")\n",
    "print(f\"Decision Tree Recall:\\t{dt_recall}\")\n",
    "print(f\"Decision Tree Accuracy:\\t{dt_accuracy}\")\n",
    "print(\"----------------------------\")\n",
    "print(f\"SVM Recall:\\t{svm_recall}\")\n",
    "print(f\"SVM Accuracy:\\t{svm_accuracy}\")\n",
    "print(\"----------------------------\")\n",
    "print(f\"KNN Recall\\t:{knn_recall}\")\n",
    "print(f\"KNN Accuracy:\\t{knn_accuracy}\")\n",
    "print(\"----------------------------\")\n",
    "print(f\"SVM Recall:\\t{svm_recall}\")\n",
    "print(f\"SVM Accuracy:\\t{svm_accuracy}\")\n",
    "print(\"----------------------------\")\n",
    "print(f\"Random Forest Recall:\\t{rf_recall}\")\n",
    "print(f\"Random Forest Accuracy:\\t{rf_accuracy}\")\n",
    "print(\"----------------------------\")\n",
    "print(f\"XGB Recall:\\t{xgb_recall}\")\n",
    "print(f\"XGB Accuracy:\\t{xgb_accuracy}\")"
   ]
  },
  {
   "cell_type": "markdown",
   "metadata": {},
   "source": [
    "## Most important Features"
   ]
  },
  {
   "cell_type": "code",
   "execution_count": 88,
   "metadata": {
    "jupyter": {
     "source_hidden": true
    }
   },
   "outputs": [
    {
     "name": "stdout",
     "output_type": "stream",
     "text": [
      "Random Forest most importan features:\n",
      "\n",
      "                                              feature  importance\n",
      "7                                   Sensation_Seeking    0.156771\n",
      "3                                            Openness    0.124621\n",
      "5                                   Conscientiousness    0.108390\n",
      "1                                         Neuroticism    0.099096\n",
      "2                                        Extraversion    0.089357\n",
      "6                                       Impulsiveness    0.079379\n",
      "4                                       Agreeableness    0.078343\n",
      "14  Some college or university, no certificate or ...    0.062663\n",
      "--------------------\n",
      "\n",
      "XGboost most importan features:\n",
      "\n",
      "                                              feature  importance\n",
      "14  Some college or university, no certificate or ...    0.226608\n",
      "7                                   Sensation_Seeking    0.106115\n",
      "0                                              Gender    0.069791\n",
      "18                                              45-54    0.059341\n",
      "17                                              35-44    0.051788\n",
      "12                                     Masters degree    0.050881\n",
      "19                                              55-64    0.042921\n",
      "3                                            Openness    0.039024\n"
     ]
    }
   ],
   "source": [
    "print(\"Random Forest most importan features:\")\n",
    "print(\"\")\n",
    "print(rf_features.head(8))\n",
    "print(\"--------------------\")\n",
    "print(\"\")\n",
    "print(\"XGboost most importan features:\")\n",
    "print(\"\")\n",
    "print(xgb_features.head(8))"
   ]
  },
  {
   "cell_type": "code",
   "execution_count": null,
   "metadata": {},
   "outputs": [],
   "source": []
  }
 ],
 "metadata": {
  "kernelspec": {
   "display_name": "Python 3",
   "language": "python",
   "name": "python3"
  },
  "language_info": {
   "codemirror_mode": {
    "name": "ipython",
    "version": 3
   },
   "file_extension": ".py",
   "mimetype": "text/x-python",
   "name": "python",
   "nbconvert_exporter": "python",
   "pygments_lexer": "ipython3",
   "version": "3.8.5"
  }
 },
 "nbformat": 4,
 "nbformat_minor": 4
}
